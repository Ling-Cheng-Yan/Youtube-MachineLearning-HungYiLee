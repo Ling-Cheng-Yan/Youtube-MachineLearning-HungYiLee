{
 "cells": [
  {
   "cell_type": "markdown",
   "metadata": {
    "colab_type": "text",
    "id": "OSL2CMEzmQvB"
   },
   "source": [
    "#**Homework 2 - Classification**\n",
    "若有任何問題，歡迎來信至助教信箱 ntu-ml-2020spring-ta@googlegroups.com"
   ]
  },
  {
   "cell_type": "markdown",
   "metadata": {
    "colab_type": "text",
    "id": "ox7joE3aZkh-"
   },
   "source": [
    "Binary classification is one of the most fundamental problem in machine learning. In this tutorial, you are going to build linear binary classifiers to predict whether the income of an indivisual exceeds 50,000 or not. We presented a discriminative and a generative approaches, the logistic regression(LR) and the linear discriminant anaysis(LDA). You are encouraged to compare the differences between the two, or explore more methodologies. Although you can finish this tutorial by simpliy copying and pasting the codes, we strongly recommend you to understand the mathematical formulation first to get more insight into the two algorithms. Please find [here](http://speech.ee.ntu.edu.tw/~tlkagk/courses/ML_2016/Lecture/Logistic%20Regression%20(v3).pdf) and [here](http://speech.ee.ntu.edu.tw/~tlkagk/courses/ML_2016/Lecture/Classification%20(v3).pdf) for more detailed information about the two algorithms.\n",
    "\n",
    "二元分類是機器學習中最基礎的問題之一，在這份教學中，你將學會如何實作一個線性二元分類器，來根據人們的個人資料，判斷其年收入是否高於 50,000 美元。我們將以兩種方法: logistic regression 與 generative model，來達成以上目的，你可以嘗試了解、分析兩者的設計理念及差別。針對這兩個演算法的理論基礎，可以參考李宏毅老師的教學投影片 [logistic regression](http://speech.ee.ntu.edu.tw/~tlkagk/courses/ML_2016/Lecture/Logistic%20Regression%20(v3).pdf) 與 [generative model](http://speech.ee.ntu.edu.tw/~tlkagk/courses/ML_2016/Lecture/Classification%20(v3).pdf)。\n",
    "\n",
    "若有任何問題，歡迎來信至助教信箱 ntu-ml-2020spring-ta@googlegroups.com"
   ]
  },
  {
   "cell_type": "markdown",
   "metadata": {
    "colab_type": "text",
    "id": "nkNW5cQmohoo"
   },
   "source": [
    "#Dataset\n",
    "\n",
    "This dataset is obtained by removing unnecessary attributes and balancing the ratio between positively and negatively labeled data in the [**Census-Income (KDD) Data Set**](https://archive.ics.uci.edu/ml/datasets/Census-Income+(KDD)), which can be found in [**UCI Machine Learning Repository**](https://archive.ics.uci.edu/ml/index.php). Only preprocessed and one-hot encoded data (i.e. *X_train*,  *Y_train* and *X_test*) will be used in this tutorial. Raw data (i.e. *train.csv* and *test.csv*) are provided to you in case you are interested in it.\n",
    "\n",
    "這個資料集是由 [**UCI Machine Learning Repository**](https://archive.ics.uci.edu/ml/index.php) 的 [**Census-Income (KDD) Data Set**](https://archive.ics.uci.edu/ml/datasets/Census-Income+(KDD)) 經過一些處理而得來。為了方便訓練，我們移除了一些不必要的資訊，並且稍微平衡了正負兩種標記的比例。事實上在訓練過程中，只有 X_train、Y_train 和 X_test 這三個經過處理的檔案會被使用到，train.csv 和 test.csv 這兩個原始資料檔則可以提供你一些額外的資訊。"
   ]
  },
  {
   "cell_type": "code",
   "execution_count": 1,
   "metadata": {
    "colab": {
     "base_uri": "https://localhost:8080/",
     "height": 221
    },
    "colab_type": "code",
    "id": "Ww4-VJoJqE-_",
    "outputId": "b969b581-fd83-4bfd-fccd-3b2991b20811"
   },
   "outputs": [
    {
     "name": "stdout",
     "output_type": "stream",
     "text": [
      "/bin/sh: 1: gdown: not found\n",
      "data/\n",
      "data/sample_submission.csv\n",
      "data/test_no_label.csv\n",
      "data/train.csv\n",
      "data/X_test\n",
      "data/X_train\n",
      "data/Y_train\n",
      "acc.png\t\t\t       hw2_classification.ipynb  output_generative.csv\n",
      "data\t\t\t       hw2_classification.py\t output_logistic.csv\n",
      "data.tar.gz\t\t       hw2_slides.pptx\n",
      "hw2_classification_demo.ipynb  loss.png\n"
     ]
    }
   ],
   "source": [
    "!gdown --id '1KSFIRh0-_Vr7SdiSCZP1ItV7bXPxMD92' --output data.tar.gz\n",
    "!tar -zxvf data.tar.gz\n",
    "!ls"
   ]
  },
  {
   "cell_type": "markdown",
   "metadata": {
    "colab_type": "text",
    "id": "WRXI0kf0W4Bd"
   },
   "source": [
    "#Logistic Regression\n",
    "\n",
    "In this section we will introduce logistic regression first. We only present how to implement it here, while mathematical formulation and analysis will be omitted. You can find more theoretical detail in [Prof. Lee's lecture](https://www.youtube.com/watch?v=hSXFuypLukA).\n",
    "\n",
    "首先我們會實作 logistic regression，針對理論細節說明請參考[李宏毅老師的教學影片](https://www.youtube.com/watch?v=hSXFuypLukA)\n",
    "\n",
    "###Preparing Data\n",
    "\n",
    "Load and normalize data, and then split training data into training set and development set.\n",
    "\n",
    "下載資料，並且對每個屬性做正規化，處理過後再將其切分為訓練集與發展集。"
   ]
  },
  {
   "cell_type": "code",
   "execution_count": 2,
   "metadata": {
    "colab": {
     "base_uri": "https://localhost:8080/",
     "height": 85
    },
    "colab_type": "code",
    "id": "7NzAmkzU2MAS",
    "outputId": "07d466eb-8b83-47d8-894a-0d990407afb3"
   },
   "outputs": [
    {
     "name": "stdout",
     "output_type": "stream",
     "text": [
      "Size of training set: 48830\n",
      "Size of development set: 5426\n",
      "Size of testing set: 27622\n",
      "Dimension of data: 510\n"
     ]
    }
   ],
   "source": [
    "import numpy as np\n",
    "\n",
    "np.random.seed(0)\n",
    "X_train_fpath = './data/X_train'\n",
    "Y_train_fpath = './data/Y_train'\n",
    "X_test_fpath = './data/X_test'\n",
    "output_fpath = './output_{}.csv'\n",
    "\n",
    "# Parse csv files to numpy array\n",
    "with open(X_train_fpath) as f:\n",
    "    next(f)\n",
    "    X_train = np.array([line.strip('\\n').split(',')[1:] for line in f], dtype = float)\n",
    "with open(Y_train_fpath) as f:\n",
    "    next(f)\n",
    "    Y_train = np.array([line.strip('\\n').split(',')[1] for line in f], dtype = float)\n",
    "with open(X_test_fpath) as f:\n",
    "    next(f)\n",
    "    X_test = np.array([line.strip('\\n').split(',')[1:] for line in f], dtype = float)\n",
    "\n",
    "def _normalize(X, train = True, specified_column = None, X_mean = None, X_std = None):\n",
    "    # This function normalizes specific columns of X.\n",
    "    # The mean and standard variance of training data will be reused when processing testing data.\n",
    "    #\n",
    "    # Arguments:\n",
    "    #     X: data to be processed\n",
    "    #     train: 'True' when processing training data, 'False' for testing data\n",
    "    #     specific_column: indexes of the columns that will be normalized. If 'None', all columns\n",
    "    #         will be normalized.\n",
    "    #     X_mean: mean value of training data, used when train = 'False'\n",
    "    #     X_std: standard deviation of training data, used when train = 'False'\n",
    "    # Outputs:\n",
    "    #     X: normalized data\n",
    "    #     X_mean: computed mean value of training data\n",
    "    #     X_std: computed standard deviation of training data\n",
    "\n",
    "    if specified_column == None:\n",
    "        specified_column = np.arange(X.shape[1])\n",
    "    if train:\n",
    "        X_mean = np.mean(X[:, specified_column] ,0).reshape(1, -1)\n",
    "        X_std  = np.std(X[:, specified_column], 0).reshape(1, -1)\n",
    "\n",
    "    X[:,specified_column] = (X[:, specified_column] - X_mean) / (X_std + 1e-8)\n",
    "     \n",
    "    return X, X_mean, X_std\n",
    "\n",
    "def _train_dev_split(X, Y, dev_ratio = 0.25):\n",
    "    # This function spilts data into training set and development set.\n",
    "    train_size = int(len(X) * (1 - dev_ratio))\n",
    "    return X[:train_size], Y[:train_size], X[train_size:], Y[train_size:]\n",
    "\n",
    "# Normalize training and testing data\n",
    "X_train, X_mean, X_std = _normalize(X_train, train = True)\n",
    "X_test, _, _= _normalize(X_test, train = False, specified_column = None, X_mean = X_mean, X_std = X_std)\n",
    "    \n",
    "# Split data into training set and development set\n",
    "dev_ratio = 0.1\n",
    "X_train, Y_train, X_dev, Y_dev = _train_dev_split(X_train, Y_train, dev_ratio = dev_ratio)\n",
    "\n",
    "train_size = X_train.shape[0]\n",
    "dev_size = X_dev.shape[0]\n",
    "test_size = X_test.shape[0]\n",
    "data_dim = X_train.shape[1]\n",
    "print('Size of training set: {}'.format(train_size))\n",
    "print('Size of development set: {}'.format(dev_size))\n",
    "print('Size of testing set: {}'.format(test_size))\n",
    "print('Dimension of data: {}'.format(data_dim))"
   ]
  },
  {
   "cell_type": "markdown",
   "metadata": {
    "colab_type": "text",
    "id": "imgCeBDoApdb"
   },
   "source": [
    "\n",
    "###Some Useful Functions\n",
    "\n",
    "Some functions that will be repeatedly used when iteratively updating the parameters.\n",
    "\n",
    "這幾個函數可能會在訓練迴圈中被重複使用到。"
   ]
  },
  {
   "cell_type": "code",
   "execution_count": 3,
   "metadata": {
    "colab": {},
    "colab_type": "code",
    "id": "hSDAw5LTAs2o"
   },
   "outputs": [],
   "source": [
    "def _shuffle(X, Y):\n",
    "    # This function shuffles two equal-length list/array, X and Y, together.\n",
    "    randomize = np.arange(len(X))\n",
    "    np.random.shuffle(randomize)\n",
    "    return (X[randomize], Y[randomize])\n",
    "\n",
    "def _sigmoid(z):\n",
    "    # Sigmoid function can be used to calculate probability.\n",
    "    # To avoid overflow, minimum/maximum output value is set.\n",
    "    return np.clip(1 / (1.0 + np.exp(-z)), 1e-8, 1 - (1e-8))\n",
    "\n",
    "def _f(X, w, b):\n",
    "    # This is the logistic regression function, parameterized by w and b\n",
    "    #\n",
    "    # Arguements:\n",
    "    #     X: input data, shape = [batch_size, data_dimension]\n",
    "    #     w: weight vector, shape = [data_dimension, ]\n",
    "    #     b: bias, scalar\n",
    "    # Output:\n",
    "    #     predicted probability of each row of X being positively labeled, shape = [batch_size, ]\n",
    "    return _sigmoid(np.matmul(X, w) + b)\n",
    "\n",
    "def _predict(X, w, b):\n",
    "    # This function returns a truth value prediction for each row of X \n",
    "    # by rounding the result of logistic regression function.\n",
    "    return np.round(_f(X, w, b)).astype(np.int)\n",
    "    \n",
    "def _accuracy(Y_pred, Y_label):\n",
    "    # This function calculates prediction accuracy\n",
    "    acc = 1 - np.mean(np.abs(Y_pred - Y_label))\n",
    "    return acc"
   ]
  },
  {
   "cell_type": "markdown",
   "metadata": {
    "colab_type": "text",
    "id": "OxJdfhEEOYwg"
   },
   "source": [
    "### Functions about gradient and loss\n",
    "\n",
    "Please refers to [Prof. Lee's lecture slides](http://speech.ee.ntu.edu.tw/~tlkagk/courses/ML_2016/Lecture/Logistic%20Regression%20(v3).pdf)(p.12) for the formula of gradient and loss computation.\n",
    "\n",
    "請參考[李宏毅老師上課投影片](http://speech.ee.ntu.edu.tw/~tlkagk/courses/ML_2016/Lecture/Logistic%20Regression%20(v3).pdf)第 12 頁的梯度及損失函數計算公式。"
   ]
  },
  {
   "cell_type": "code",
   "execution_count": 4,
   "metadata": {
    "colab": {},
    "colab_type": "code",
    "id": "DqYkUgLjOWi1"
   },
   "outputs": [],
   "source": [
    "def _cross_entropy_loss(y_pred, Y_label):\n",
    "    # This function computes the cross entropy.\n",
    "    #\n",
    "    # Arguements:\n",
    "    #     y_pred: probabilistic predictions, float vector\n",
    "    #     Y_label: ground truth labels, bool vector\n",
    "    # Output:\n",
    "    #     cross entropy, scalar\n",
    "    cross_entropy = -np.dot(Y_label, np.log(y_pred)) - np.dot((1 - Y_label), np.log(1 - y_pred))\n",
    "    return cross_entropy\n",
    "\n",
    "def _gradient(X, Y_label, w, b):\n",
    "    # This function computes the gradient of cross entropy loss with respect to weight w and bias b.\n",
    "    y_pred = _f(X, w, b)\n",
    "    pred_error = Y_label - y_pred\n",
    "    w_grad = -np.sum(pred_error * X.T, 1)\n",
    "    b_grad = -np.sum(pred_error)\n",
    "    return w_grad, b_grad\n"
   ]
  },
  {
   "cell_type": "markdown",
   "metadata": {
    "colab_type": "text",
    "id": "XXEFuqydaA34"
   },
   "source": [
    "### Training\n",
    "\n",
    "Everything is prepared, let's start training! \n",
    "\n",
    "Mini-batch gradient descent is used here, in which training data are split into several mini-batches and each batch is fed into the model sequentially for losses and gradients computation. Weights and bias are updated on a mini-batch basis.\n",
    "\n",
    "Once we have gone through the whole training set,  the data have to be re-shuffled and mini-batch gradient desent has to be run on it again. We repeat such process until max number of iterations is reached.\n",
    "\n",
    "我們使用小批次梯度下降法來訓練。訓練資料被分為許多小批次，針對每一個小批次，我們分別計算其梯度以及損失，並根據該批次來更新模型的參數。當一次迴圈完成，也就是整個訓練集的所有小批次都被使用過一次以後，我們將所有訓練資料打散並且重新分成新的小批次，進行下一個迴圈，直到事先設定的迴圈數量達成為止。"
   ]
  },
  {
   "cell_type": "code",
   "execution_count": 5,
   "metadata": {
    "colab": {
     "base_uri": "https://localhost:8080/",
     "height": 255
    },
    "colab_type": "code",
    "id": "s6yNUeG9aBR1",
    "outputId": "5a82e26f-f387-4b89-f15e-1bd45d4f8521"
   },
   "outputs": [
    {
     "name": "stdout",
     "output_type": "stream",
     "text": [
      "y_train_pred1:\n",
      " [5.29192971e-03 5.89540747e-01 1.00000000e-08 ... 1.71167407e-03\n",
      " 3.41123771e-03 3.45270473e-02]\n",
      "y_pred:\n",
      " [5.29192971e-03 5.89540747e-01 1.00000000e-08 ... 1.71167407e-03\n",
      " 3.41123771e-03 3.45270473e-02]\n",
      "lb:\n",
      " [ -5.24157232  -0.52841144 -18.42068074 ...  -6.3702834   -5.68068009\n",
      "  -3.36601228]\n",
      "y_train_pred2:\n",
      " [5.29192971e-03 5.89540747e-01 1.00000000e-08 ... 1.71167407e-03\n",
      " 3.41123771e-03 3.45270473e-02]\n",
      "y_pred:\n",
      " [1.71636689e-01 9.30497876e-03 1.90581337e-01 ... 1.00000000e-08\n",
      " 3.06454312e-02 3.10066970e-03]\n",
      "lb:\n",
      " [ -1.76237531  -4.67720567  -1.65767621 ... -18.42068074  -3.48527169\n",
      "  -5.77613716]\n",
      "y_train_pred1:\n",
      " [3.75322694e-02 8.04661919e-04 1.00000000e-08 ... 1.36930599e-02\n",
      " 2.05959472e-01 3.18925531e-03]\n",
      "y_pred:\n",
      " [3.75322694e-02 8.04661919e-04 1.00000000e-08 ... 1.36930599e-02\n",
      " 2.05959472e-01 3.18925531e-03]\n",
      "lb:\n",
      " [ -3.2825542   -7.12508835 -18.42068074 ...  -4.29086615  -1.58007587\n",
      "  -5.74796784]\n",
      "y_train_pred2:\n",
      " [3.75322694e-02 8.04661919e-04 1.00000000e-08 ... 1.36930599e-02\n",
      " 2.05959472e-01 3.18925531e-03]\n",
      "y_pred:\n",
      " [2.40592857e-01 1.30463138e-02 1.44876711e-01 ... 1.00000000e-08\n",
      " 1.48082883e-01 8.35924830e-03]\n",
      "lb:\n",
      " [ -1.42464916  -4.33924965  -1.93187216 ... -18.42068074  -1.90998314\n",
      "  -4.78438677]\n",
      "y_train_pred1:\n",
      " [2.00186815e-01 6.59202288e-07 8.11639686e-01 ... 9.74761754e-01\n",
      " 2.73720453e-04 3.57397924e-01]\n",
      "y_pred:\n",
      " [2.00186815e-01 6.59202288e-07 8.11639686e-01 ... 9.74761754e-01\n",
      " 2.73720453e-04 3.57397924e-01]\n",
      "lb:\n",
      " [ -1.60850428 -14.23223539  -0.20869877 ...  -0.02556219  -8.20340322\n",
      "  -1.02890548]\n",
      "y_train_pred2:\n",
      " [2.00186815e-01 6.59202288e-07 8.11639686e-01 ... 9.74761754e-01\n",
      " 2.73720453e-04 3.57397924e-01]\n",
      "y_pred:\n",
      " [1.81709543e-01 1.87821734e-02 1.81930002e-01 ... 1.00000000e-08\n",
      " 4.03464150e-02 7.76014372e-03]\n",
      "lb:\n",
      " [ -1.70534578  -3.97484708  -1.70413327 ... -18.42068074  -3.21025273\n",
      "  -4.85875442]\n",
      "y_train_pred1:\n",
      " [0.01110497 0.81434288 0.51730305 ... 0.01459968 0.07030657 0.02770799]\n",
      "y_pred:\n",
      " [0.01110497 0.81434288 0.51730305 ... 0.01459968 0.07030657 0.02770799]\n",
      "lb:\n",
      " [-4.50036227 -0.20537377 -0.65912641 ... -4.22675582 -2.65489005\n",
      " -3.58603458]\n",
      "y_train_pred2:\n",
      " [0.01110497 0.81434288 0.51730305 ... 0.01459968 0.07030657 0.02770799]\n",
      "y_pred:\n",
      " [2.22121617e-01 1.16160715e-02 1.46374579e-01 ... 1.00000000e-08\n",
      " 1.01117731e-01 9.95612529e-03]\n",
      "lb:\n",
      " [ -1.50453022  -4.45536566  -1.92158633 ... -18.42068074  -2.29146978\n",
      "  -4.60956731]\n",
      "y_train_pred1:\n",
      " [1.49353566e-02 3.79087719e-01 9.48973968e-02 ... 1.25968048e-01\n",
      " 3.27600067e-04 1.24888162e-02]\n",
      "y_pred:\n",
      " [1.49353566e-02 3.79087719e-01 9.48973968e-02 ... 1.25968048e-01\n",
      " 3.27600067e-04 1.24888162e-02]\n",
      "lb:\n",
      " [-4.20402395 -0.96998765 -2.35495901 ... -2.071727   -8.023717\n",
      " -4.38292174]\n",
      "y_train_pred2:\n",
      " [1.49353566e-02 3.79087719e-01 9.48973968e-02 ... 1.25968048e-01\n",
      " 3.27600067e-04 1.24888162e-02]\n",
      "y_pred:\n",
      " [1.97365713e-01 1.89451840e-02 1.56763872e-01 ... 1.00000000e-08\n",
      " 7.71980956e-02 1.17798067e-02]\n",
      "lb:\n",
      " [ -1.62269686  -3.96620552  -1.85301461 ... -18.42068074  -2.56138049\n",
      "  -4.44136851]\n",
      "y_train_pred1:\n",
      " [1.48961290e-02 3.32036836e-01 4.77236612e-04 ... 4.10325922e-01\n",
      " 6.52418129e-02 1.00000000e-08]\n",
      "y_pred:\n",
      " [1.48961290e-02 3.32036836e-01 4.77236612e-04 ... 4.10325922e-01\n",
      " 6.52418129e-02 1.00000000e-08]\n",
      "lb:\n",
      " [ -4.2066539   -1.10250936  -7.64749815 ...  -0.8908035   -2.72965471\n",
      " -18.42068074]\n",
      "y_train_pred2:\n",
      " [1.48961290e-02 3.32036836e-01 4.77236612e-04 ... 4.10325922e-01\n",
      " 6.52418129e-02 1.00000000e-08]\n",
      "y_pred:\n",
      " [1.69433959e-01 3.78177126e-02 2.14037119e-01 ... 1.00000000e-08\n",
      " 8.37954775e-02 1.18548091e-02]\n",
      "lb:\n",
      " [ -1.77529205  -3.2749777   -1.54160583 ... -18.42068074  -2.47937624\n",
      "  -4.43502166]\n",
      "y_train_pred1:\n",
      " [0.81951074 0.0128588  0.08968052 ... 0.50236077 0.14871771 0.88226945]\n",
      "y_pred:\n",
      " [0.81951074 0.0128588  0.08968052 ... 0.50236077 0.14871771 0.88226945]\n",
      "lb:\n",
      " [-0.19904777 -4.35372687 -2.41150166 ... -0.68843675 -1.90570535\n",
      " -0.12525777]\n",
      "y_train_pred2:\n",
      " [0.81951074 0.0128588  0.08968052 ... 0.50236077 0.14871771 0.88226945]\n",
      "y_pred:\n",
      " [2.20099639e-01 1.81082630e-02 1.80099204e-01 ... 1.00000000e-08\n",
      " 9.94070376e-02 8.27464822e-03]\n",
      "lb:\n",
      " [ -1.51367493  -4.01138692  -1.71424745 ... -18.42068074  -2.30853237\n",
      "  -4.79455887]\n",
      "y_train_pred1:\n",
      " [5.88070670e-01 9.25378790e-01 2.27422874e-01 ... 5.08447882e-02\n",
      " 2.65592903e-02 7.45333983e-05]\n",
      "y_pred:\n",
      " [5.88070670e-01 9.25378790e-01 2.27422874e-01 ... 5.08447882e-02\n",
      " 2.65592903e-02 7.45333983e-05]\n",
      "lb:\n",
      " [-0.53090815 -0.07755212 -1.48094411 ... -2.97897766 -3.62837567\n",
      " -9.50426323]\n",
      "y_train_pred2:\n",
      " [5.88070670e-01 9.25378790e-01 2.27422874e-01 ... 5.08447882e-02\n",
      " 2.65592903e-02 7.45333983e-05]\n",
      "y_pred:\n",
      " [2.37633356e-01 3.50708402e-02 2.11799461e-01 ... 1.00000000e-08\n",
      " 8.57585486e-02 1.06355788e-02]\n",
      "lb:\n",
      " [ -1.43702631  -3.35038526  -1.55211539 ... -18.42068074  -2.45621951\n",
      "  -4.54355041]\n",
      "y_train_pred1:\n",
      " [0.1596823  0.05834685 0.0486895  ... 0.91108943 0.10730049 0.00134032]\n",
      "y_pred:\n",
      " [0.1596823  0.05834685 0.0486895  ... 0.91108943 0.10730049 0.00134032]\n",
      "lb:\n",
      " [-1.83456905 -2.84134987 -3.02229184 ... -0.09311421 -2.23212207\n",
      " -6.61484936]\n",
      "y_train_pred2:\n",
      " [0.1596823  0.05834685 0.0486895  ... 0.91108943 0.10730049 0.00134032]\n",
      "y_pred:\n",
      " [3.36316871e-01 2.59545876e-02 1.05184548e-01 ... 1.00000000e-08\n",
      " 5.94820233e-02 1.16471081e-02]\n",
      "lb:\n",
      " [ -1.08970149  -3.6514069   -2.25203887 ... -18.42068074  -2.82208114\n",
      "  -4.45269736]\n",
      "y_train_pred1:\n",
      " [4.03589345e-05 4.12341010e-01 9.63016077e-02 ... 1.19569202e-01\n",
      " 3.29485875e-02 5.33740842e-01]\n",
      "y_pred:\n",
      " [4.03589345e-05 4.12341010e-01 9.63016077e-02 ... 1.19569202e-01\n",
      " 3.29485875e-02 5.33740842e-01]\n",
      "lb:\n",
      " [-10.11769776  -0.88590458  -2.34027027 ...  -2.12385998  -3.41280689\n",
      "  -0.62784487]\n",
      "y_train_pred2:\n",
      " [4.03589345e-05 4.12341010e-01 9.63016077e-02 ... 1.19569202e-01\n",
      " 3.29485875e-02 5.33740842e-01]\n",
      "y_pred:\n",
      " [2.40923241e-01 2.06517391e-02 1.69607954e-01 ... 1.00000000e-08\n",
      " 4.63274909e-02 1.07384422e-02]\n",
      "lb:\n",
      " [ -1.4232769   -3.87995575  -1.77426566 ... -18.42068074  -3.07201974\n",
      "  -4.53392524]\n",
      "Training loss: 0.271355435246406\n",
      "Development loss: 0.2896359675026287\n",
      "Training accuracy: 0.8836166291214418\n",
      "Development accuracy: 0.8733873940287504\n"
     ]
    }
   ],
   "source": [
    "# Zero initialization for weights ans bias\n",
    "w = np.zeros((data_dim,)) \n",
    "b = np.zeros((1,))\n",
    "\n",
    "# Some parameters for training    \n",
    "max_iter = 10\n",
    "batch_size = 8\n",
    "learning_rate = 0.2\n",
    "\n",
    "# Keep the loss and accuracy at every iteration for plotting\n",
    "train_loss = []\n",
    "dev_loss = []\n",
    "train_acc = []\n",
    "dev_acc = []\n",
    "\n",
    "# Calcuate the number of parameter updates\n",
    "step = 1\n",
    "\n",
    "# Iterative training\n",
    "for epoch in range(max_iter):\n",
    "    # Random shuffle at the begging of each epoch\n",
    "    X_train, Y_train = _shuffle(X_train, Y_train)\n",
    "        \n",
    "    # Mini-batch training\n",
    "    for idx in range(int(np.floor(train_size / batch_size))):\n",
    "        X = X_train[idx*batch_size:(idx+1)*batch_size]\n",
    "        Y = Y_train[idx*batch_size:(idx+1)*batch_size]\n",
    "\n",
    "        # Compute the gradient\n",
    "        w_grad, b_grad = _gradient(X, Y, w, b)\n",
    "            \n",
    "        # gradient descent update\n",
    "        # learning rate decay with time\n",
    "        w = w - learning_rate/np.sqrt(step) * w_grad\n",
    "        b = b - learning_rate/np.sqrt(step) * b_grad\n",
    "\n",
    "        step = step + 1\n",
    "            \n",
    "    # Compute loss and accuracy of training set and development set\n",
    "    y_train_pred = _f(X_train, w, b)\n",
    "    Y_train_pred = np.round(y_train_pred)\n",
    "    train_acc.append(_accuracy(Y_train_pred, Y_train))\n",
    "    train_loss.append(_cross_entropy_loss(y_train_pred, Y_train) / train_size)\n",
    "    \n",
    "    y_dev_pred = _f(X_dev, w, b)\n",
    "    Y_dev_pred = np.round(y_dev_pred)\n",
    "    dev_acc.append(_accuracy(Y_dev_pred, Y_dev))\n",
    "    dev_loss.append(_cross_entropy_loss(y_dev_pred, Y_dev) / dev_size)\n",
    "\n",
    "print('Training loss: {}'.format(train_loss[-1]))\n",
    "print('Development loss: {}'.format(dev_loss[-1]))\n",
    "print('Training accuracy: {}'.format(train_acc[-1]))\n",
    "print('Development accuracy: {}'.format(dev_acc[-1]))"
   ]
  },
  {
   "cell_type": "markdown",
   "metadata": {
    "colab_type": "text",
    "id": "RJuoQ_R2jUmX"
   },
   "source": [
    "### Plotting Loss and accuracy curve"
   ]
  },
  {
   "cell_type": "code",
   "execution_count": 6,
   "metadata": {
    "colab": {
     "base_uri": "https://localhost:8080/",
     "height": 545
    },
    "colab_type": "code",
    "id": "DH3AJtvHjVJ7",
    "outputId": "4048b9f9-b739-4497-d2fe-93950bd25160"
   },
   "outputs": [
    {
     "data": {
      "image/png": "[encoded data removed]",
      "text/plain": [
       "<Figure size 432x288 with 1 Axes>"
      ]
     },
     "metadata": {
      "needs_background": "light"
     },
     "output_type": "display_data"
    },
    {
     "data": {
      "image/png": "[encoded data removed]",
      "text/plain": [
       "<Figure size 432x288 with 1 Axes>"
      ]
     },
     "metadata": {
      "needs_background": "light"
     },
     "output_type": "display_data"
    }
   ],
   "source": [
    "import matplotlib.pyplot as plt\n",
    "\n",
    "# Loss curve\n",
    "plt.plot(train_loss)\n",
    "plt.plot(dev_loss)\n",
    "plt.title('Loss')\n",
    "plt.legend(['train', 'dev'])\n",
    "plt.savefig('loss.png')\n",
    "plt.show()\n",
    "\n",
    "# Accuracy curve\n",
    "plt.plot(train_acc)\n",
    "plt.plot(dev_acc)\n",
    "plt.title('Accuracy')\n",
    "plt.legend(['train', 'dev'])\n",
    "plt.savefig('acc.png')\n",
    "plt.show()"
   ]
  },
  {
   "cell_type": "markdown",
   "metadata": {
    "colab_type": "text",
    "id": "HzIcYAfvkUZ_"
   },
   "source": [
    "###Predicting testing labels\n",
    "\n",
    "Predictions are saved to *output_logistic.csv*.\n",
    "\n",
    "預測測試集的資料標籤並且存在 *output_logistic.csv* 中。"
   ]
  },
  {
   "cell_type": "code",
   "execution_count": 7,
   "metadata": {
    "colab": {
     "base_uri": "https://localhost:8080/",
     "height": 187
    },
    "colab_type": "code",
    "id": "ZEAKhugPkUyH",
    "outputId": "d18595c8-7851-4f76-e04e-51accf15bc53"
   },
   "outputs": [
    {
     "name": "stdout",
     "output_type": "stream",
     "text": [
      " Not in universe -4.031960278019251\n",
      " Spouse of householder -1.625403958705141\n",
      " Other Rel <18 never married RP of subfamily -1.4195759775765404\n",
      " Child 18+ ever marr Not in a subfamily -1.2958572076664745\n",
      " Unemployed full-time 1.1712558285885912\n",
      " Other Rel <18 ever marr RP of subfamily -1.167791807296237\n",
      " Italy -1.093458143800618\n",
      " Vietnam -1.0630365633146415\n",
      "num persons worked for employer 0.938992277356651\n",
      " 1 0.8226614922117185\n"
     ]
    }
   ],
   "source": [
    "# Predict testing labels\n",
    "predictions = _predict(X_test, w, b)\n",
    "with open(output_fpath.format('logistic'), 'w') as f:\n",
    "    f.write('id,label\\n')\n",
    "    for i, label in  enumerate(predictions):\n",
    "        f.write('{},{}\\n'.format(i, label))\n",
    "\n",
    "# Print out the most significant weights\n",
    "ind = np.argsort(np.abs(w))[::-1]\n",
    "with open(X_test_fpath) as f:\n",
    "    content = f.readline().strip('\\n').split(',')\n",
    "features = np.array(content)\n",
    "for i in ind[0:10]:\n",
    "    print(features[i], w[i])"
   ]
  },
  {
   "cell_type": "markdown",
   "metadata": {
    "colab_type": "text",
    "id": "1C6sqhUbLMGe"
   },
   "source": [
    "# Porbabilistic generative model\n",
    "\n",
    "In this section we will discuss a generative approach to binary classification. Again, we will not go through the formulation detailedly. Please find [Prof. Lee's lecture](https://www.youtube.com/watch?v=fZAZUYEeIMg) if you are interested in it.\n",
    "\n",
    "接者我們將實作基於 generative model 的二元分類器，理論細節請參考[李宏毅老師的教學影片](https://www.youtube.com/watch?v=fZAZUYEeIMg)。\n",
    "\n",
    "### Preparing Data\n",
    "\n",
    "Training and testing data is loaded and normalized as in logistic regression. However, since LDA is a deterministic algorithm, there is no need to build a development set.\n",
    "\n",
    "訓練集與測試集的處理方法跟 logistic regression 一模一樣，然而因為 generative model 有可解析的最佳解，因此不必使用到 development set。"
   ]
  },
  {
   "cell_type": "code",
   "execution_count": 8,
   "metadata": {
    "colab": {},
    "colab_type": "code",
    "id": "czWXO7qML8DU"
   },
   "outputs": [],
   "source": [
    "# Parse csv files to numpy array\n",
    "with open(X_train_fpath) as f:\n",
    "    next(f)\n",
    "    X_train = np.array([line.strip('\\n').split(',')[1:] for line in f], dtype = float)\n",
    "with open(Y_train_fpath) as f:\n",
    "    next(f)\n",
    "    Y_train = np.array([line.strip('\\n').split(',')[1] for line in f], dtype = float)\n",
    "with open(X_test_fpath) as f:\n",
    "    next(f)\n",
    "    X_test = np.array([line.strip('\\n').split(',')[1:] for line in f], dtype = float)\n",
    "\n",
    "# Normalize training and testing data\n",
    "X_train, X_mean, X_std = _normalize(X_train, train = True)\n",
    "X_test, _, _= _normalize(X_test, train = False, specified_column = None, X_mean = X_mean, X_std = X_std)"
   ]
  },
  {
   "cell_type": "markdown",
   "metadata": {
    "colab_type": "text",
    "id": "L8NGKl-EPvok"
   },
   "source": [
    "### Mean and Covariance\n",
    "\n",
    "In generative model, in-class mean and covariance are needed.\n",
    "\n",
    "在 generative model 中，我們需要分別計算兩個類別內的資料平均與共變異。"
   ]
  },
  {
   "cell_type": "code",
   "execution_count": 9,
   "metadata": {
    "colab": {},
    "colab_type": "code",
    "id": "iQrzXXKUPwHT"
   },
   "outputs": [],
   "source": [
    "# Compute in-class mean\n",
    "X_train_0 = np.array([x for x, y in zip(X_train, Y_train) if y == 0])\n",
    "X_train_1 = np.array([x for x, y in zip(X_train, Y_train) if y == 1])\n",
    "\n",
    "mean_0 = np.mean(X_train_0, axis = 0)\n",
    "mean_1 = np.mean(X_train_1, axis = 0)  \n",
    "\n",
    "# Compute in-class covariance\n",
    "cov_0 = np.zeros((data_dim, data_dim))\n",
    "cov_1 = np.zeros((data_dim, data_dim))\n",
    "\n",
    "for x in X_train_0:\n",
    "    cov_0 += np.dot(np.transpose([x - mean_0]), [x - mean_0]) / X_train_0.shape[0]\n",
    "for x in X_train_1:\n",
    "    cov_1 += np.dot(np.transpose([x - mean_1]), [x - mean_1]) / X_train_1.shape[0]\n",
    "\n",
    "# Shared covariance is taken as a weighted average of individual in-class covariance.\n",
    "cov = (cov_0 * X_train_0.shape[0] + cov_1 * X_train_1.shape[0]) / (X_train_0.shape[0] + X_train_1.shape[0])"
   ]
  },
  {
   "cell_type": "markdown",
   "metadata": {
    "colab_type": "text",
    "id": "kifW1pFxXXA5"
   },
   "source": [
    "### Computing weights and bias\n",
    "\n",
    "Directly compute weights and bias from in-class mean and shared variance. [Prof. Lee's lecture slides](http://speech.ee.ntu.edu.tw/~tlkagk/courses/ML_2016/Lecture/Classification%20(v3).pdf)(p.33) gives a concise explanation.\n",
    "\n",
    "權重矩陣與偏差向量可以直接被計算出來，算法可以參考[李宏毅老師教學投影片](http://speech.ee.ntu.edu.tw/~tlkagk/courses/ML_2016/Lecture/Classification%20(v3).pdf)第 33 頁。"
   ]
  },
  {
   "cell_type": "code",
   "execution_count": 10,
   "metadata": {
    "colab": {
     "base_uri": "https://localhost:8080/",
     "height": 34
    },
    "colab_type": "code",
    "id": "UghOxYrUXXPU",
    "outputId": "72f8d4b8-0019-414e-f7d0-9dfc4796188d"
   },
   "outputs": [
    {
     "name": "stdout",
     "output_type": "stream",
     "text": [
      "Training accuracy: 0.8637017104099086\n"
     ]
    }
   ],
   "source": [
    "# Compute inverse of covariance matrix.\n",
    "# Since covariance matrix may be nearly singular, np.linalg.inv() may give a large numerical error.\n",
    "# Via SVD decomposition, one can get matrix inverse efficiently and accurately.\n",
    "u, s, v = np.linalg.svd(cov, full_matrices=False)\n",
    "inv = np.matmul(v.T * 1 / s, u.T)\n",
    "\n",
    "# Directly compute weights and bias\n",
    "w = np.dot(inv, mean_0 - mean_1)\n",
    "b =  (-0.5) * np.dot(mean_0, np.dot(inv, mean_0)) + 0.5 * np.dot(mean_1, np.dot(inv, mean_1))\\\n",
    "    + np.log(float(X_train_0.shape[0]) / X_train_1.shape[0]) \n",
    "\n",
    "# Compute accuracy on training set\n",
    "Y_train_pred = 1 - _predict(X_train, w, b)\n",
    "print('Training accuracy: {}'.format(_accuracy(Y_train_pred, Y_train)))"
   ]
  },
  {
   "cell_type": "markdown",
   "metadata": {
    "colab_type": "text",
    "id": "RDKWzBy0bi3c"
   },
   "source": [
    "###Predicting testing labels\n",
    "\n",
    "Predictions are saved to *output_generative.csv*.\n",
    "\n",
    "預測測試集的資料標籤並且存在 *output_generative.csv* 中。"
   ]
  },
  {
   "cell_type": "code",
   "execution_count": 11,
   "metadata": {
    "colab": {
     "base_uri": "https://localhost:8080/",
     "height": 187
    },
    "colab_type": "code",
    "id": "T3QjToT_Sq9J",
    "outputId": "0e22d03e-f1d4-49c0-f5db-6aaa4ad612f4"
   },
   "outputs": [
    {
     "name": "stdout",
     "output_type": "stream",
     "text": [
      " Retail trade 8.6865234375\n",
      " 34 -6.5498046875\n",
      " 37 -5.9912109375\n",
      " Other service -5.671875\n",
      " 19 5.361328125\n",
      " Transportation -5.3017578125\n",
      " 3 -5.29296875\n",
      " 46 4.40625\n",
      " Not in universe or children 4.400390625\n",
      " 9 -4.357421875\n"
     ]
    }
   ],
   "source": [
    "# Predict testing labels\n",
    "predictions = 1 - _predict(X_test, w, b)\n",
    "with open(output_fpath.format('generative'), 'w') as f:\n",
    "    f.write('id,label\\n')\n",
    "    for i, label in  enumerate(predictions):\n",
    "        f.write('{},{}\\n'.format(i, label))\n",
    "\n",
    "# Print out the most significant weights\n",
    "ind = np.argsort(np.abs(w))[::-1]\n",
    "with open(X_test_fpath) as f:\n",
    "    content = f.readline().strip('\\n').split(',')\n",
    "features = np.array(content)\n",
    "for i in ind[0:10]:\n",
    "    print(features[i], w[i])\n"
   ]
  }
 ],
 "metadata": {
  "colab": {
   "collapsed_sections": [],
   "name": "hw2_classification.ipynb",
   "provenance": [],
   "toc_visible": true
  },
  "kernelspec": {
   "display_name": "Python 3.6.8 64-bit ('ml': conda)",
   "language": "python",
   "name": "python36864bitmlconda4727b916de1c4a8f8265036fed6d2bb8"
  },
  "language_info": {
   "codemirror_mode": {
    "name": "ipython",
    "version": 3
   },
   "file_extension": ".py",
   "mimetype": "text/x-python",
   "name": "python",
   "nbconvert_exporter": "python",
   "pygments_lexer": "ipython3",
   "version": "3.6.8"
  }
 },
 "nbformat": 4,
 "nbformat_minor": 1
}
