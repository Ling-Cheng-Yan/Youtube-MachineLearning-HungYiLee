{
  "nbformat": 4,
  "nbformat_minor": 0,
  "metadata": {
    "kernelspec": {
      "name": "python3",
      "display_name": "Python 3"
    },
    "language_info": {
      "codemirror_mode": {
        "name": "ipython",
        "version": 3
      },
      "file_extension": ".py",
      "mimetype": "text/x-python",
      "name": "python",
      "nbconvert_exporter": "python",
      "pygments_lexer": "ipython3",
      "version": "3.6.9"
    },
    "colab": {
      "name": "hw13_meta_omniglot.ipynb",
      "provenance": [],
      "collapsed_sections": []
    },
    "accelerator": "GPU"
  },
  "cells": [
    {
      "cell_type": "markdown",
      "metadata": {
        "id": "p3GrThE2-evu",
        "colab_type": "text"
      },
      "source": [
        "# **HW13 Meta Learning: Omniglot Few-Shot Classification**\n",
        "目標：reproduce Finn 的實驗結果\n",
        "\n",
        "手把手影片：https://drive.google.com/open?id=1DjwXTpEVK__f5dmlkU4kUgaaTmFtHfIw\n",
        "\n",
        "手把手投影片：https://drive.google.com/open?id=1FUVULNb8LwTt8Ixs3vra6poGeRcOap4n\n",
        "\n",
        "#####**在你看這裡時，請你先執行 step 1 下載資料第一個、第二個 block 的程式碼，再繼續往下看。**\n",
        "Reference: \n",
        "1. A repo containing lots of few-shot learning models: https://github.com/oscarknagg/few-shot\n",
        "2. A pytorch implementation: https://github.com/dragen1860/MAML-Pytorch\n",
        "3. The official Tf implementation: https://github.com/cbfinn/maml\n",
        "4. Omniglot dataset: https://github.com/brendenlake/omniglot\n",
        "\n",
        "若有任何問題，歡迎來信至助教信箱 ntu-ml-2020spring-ta@googlegroups.com\n"
      ]
    },
    {
      "cell_type": "markdown",
      "metadata": {
        "id": "QkcojtlzNkrf",
        "colab_type": "text"
      },
      "source": [
        "## **Step 1: 下載資料**\n",
        "\n",
        "首先我們要把 Omniglot 的 dataset 下載下來。這裡下載的都是助教已經處理過，並且做過 data augmentation 的資料。"
      ]
    },
    {
      "cell_type": "code",
      "metadata": {
        "id": "0pHiEr3sNLhC",
        "colab_type": "code",
        "outputId": "97efc38d-e62a-4e6b-9edd-f4ad5d81198e",
        "colab": {
          "base_uri": "https://localhost:8080/",
          "height": 85
        }
      },
      "source": [
        "workspace_dir = '.'\n",
        "# gdown 是一個可以從 google drive 下載資料的工具\n",
        "!gdown --id 1FLDrQ0k-iJ-mk8ors0WItqvwgu0w9J0U --output \"{workspace_dir}/Omniglot.tar.gz\"\n",
        "\n",
        "\n"
      ],
      "execution_count": 0,
      "outputs": [
        {
          "output_type": "stream",
          "text": [
            "Downloading...\n",
            "From: https://drive.google.com/uc?id=1FLDrQ0k-iJ-mk8ors0WItqvwgu0w9J0U\n",
            "To: /content/Omniglot.tar.gz\n",
            "26.4MB [00:00, 83.9MB/s]\n"
          ],
          "name": "stdout"
        }
      ]
    },
    {
      "cell_type": "markdown",
      "metadata": {
        "id": "npijLod2PdIp",
        "colab_type": "text"
      },
      "source": [
        "接著我們把 dataset 的檔案解壓縮\n",
        "因為檔案非常大，要等一下子，可以先執行解壓縮，同時看一下 model 的部分程式\n"
      ]
    },
    {
      "cell_type": "code",
      "metadata": {
        "id": "Z7mamfbCPiup",
        "colab_type": "code",
        "colab": {}
      },
      "source": [
        "#!tar -zxvf \"{workspace_dir}/Omniglot.tar.gz\" -C \"{workspace_dir}/\"  #這行會印出解壓縮的所有檔案，因為很煩所以我註解掉了\n",
        "!tar -zxf \"{workspace_dir}/Omniglot.tar.gz\" -C \"{workspace_dir}/\"   #這行在解壓縮時不會印檔案名稱出來"
      ],
      "execution_count": 0,
      "outputs": []
    },
    {
      "cell_type": "markdown",
      "metadata": {
        "id": "s_0JhLS-_UXi",
        "colab_type": "text"
      },
      "source": [
        "我們看一下 Omniglot 的 dataset 長什麼樣子\n"
      ]
    },
    {
      "cell_type": "code",
      "metadata": {
        "id": "FuaKrzxU_a2P",
        "colab_type": "code",
        "outputId": "e0ccf0a3-c7d7-4887-9c26-058153295f55",
        "colab": {
          "base_uri": "https://localhost:8080/",
          "height": 297
        }
      },
      "source": [
        "from PIL import Image\n",
        "from IPython.display import display\n",
        "for i in range(10, 20):\n",
        "  im = Image.open(\"Omniglot/images_background/Japanese_(hiragana).0/character13/0500_\" + str (i) + \".png\")\n",
        "  display(im)"
      ],
      "execution_count": 0,
      "outputs": [
        {
          "output_type": "display_data",
          "data": {
            "image/png": "[encoded data removed]",
            "text/plain": [
              "<PIL.PngImagePlugin.PngImageFile image mode=L size=28x28 at 0x7F3150BF31D0>"
            ]
          },
          "metadata": {
            "tags": []
          }
        },
        {
          "output_type": "display_data",
          "data": {
            "image/png": "[encoded data removed]",
            "text/plain": [
              "<PIL.PngImagePlugin.PngImageFile image mode=L size=28x28 at 0x7F3150BF3208>"
            ]
          },
          "metadata": {
            "tags": []
          }
        },
        {
          "output_type": "display_data",
          "data": {
            "image/png": "[encoded data removed]",
            "text/plain": [
              "<PIL.PngImagePlugin.PngImageFile image mode=L size=28x28 at 0x7F3150BF3198>"
            ]
          },
          "metadata": {
            "tags": []
          }
        },
        {
          "output_type": "display_data",
          "data": {
            "image/png": "[encoded data removed]",
            "text/plain": [
              "<PIL.PngImagePlugin.PngImageFile image mode=L size=28x28 at 0x7F3150BF31D0>"
            ]
          },
          "metadata": {
            "tags": []
          }
        },
        {
          "output_type": "display_data",
          "data": {
            "image/png": "[encoded data removed]",
            "text/plain": [
              "<PIL.PngImagePlugin.PngImageFile image mode=L size=28x28 at 0x7F3150BF3208>"
            ]
          },
          "metadata": {
            "tags": []
          }
        },
        {
          "output_type": "display_data",
          "data": {
            "image/png": "[encoded data removed]",
            "text/plain": [
              "<PIL.PngImagePlugin.PngImageFile image mode=L size=28x28 at 0x7F3150BF3198>"
            ]
          },
          "metadata": {
            "tags": []
          }
        },
        {
          "output_type": "display_data",
          "data": {
            "image/png": "[encoded data removed]",
            "text/plain": [
              "<PIL.PngImagePlugin.PngImageFile image mode=L size=28x28 at 0x7F3150BF31D0>"
            ]
          },
          "metadata": {
            "tags": []
          }
        },
        {
          "output_type": "display_data",
          "data": {
            "image/png": "[encoded data removed]",
            "text/plain": [
              "<PIL.PngImagePlugin.PngImageFile image mode=L size=28x28 at 0x7F3150BF3208>"
            ]
          },
          "metadata": {
            "tags": []
          }
        },
        {
          "output_type": "display_data",
          "data": {
            "image/png": "[encoded data removed]",
            "text/plain": [
              "<PIL.PngImagePlugin.PngImageFile image mode=L size=28x28 at 0x7F3150BF3198>"
            ]
          },
          "metadata": {
            "tags": []
          }
        },
        {
          "output_type": "display_data",
          "data": {
            "image/png": "[encoded data removed]",
            "text/plain": [
              "<PIL.PngImagePlugin.PngImageFile image mode=L size=28x28 at 0x7F3150BF31D0>"
            ]
          },
          "metadata": {
            "tags": []
          }
        }
      ]
    },
    {
      "cell_type": "markdown",
      "metadata": {
        "id": "XP3HOga_NIzS",
        "colab_type": "text"
      },
      "source": [
        "## **Step 2: 建立模型**\n",
        "以下我們就要開始建立核心的 MAML 模型\n",
        "首先我們將需要的套件引入"
      ]
    },
    {
      "cell_type": "code",
      "metadata": {
        "id": "pTaZoyuwNIzU",
        "colab_type": "code",
        "colab": {}
      },
      "source": [
        "# Import modules we need\n",
        "import torch\n",
        "import torch.nn as nn\n",
        "import torch.nn.functional as F\n",
        "from torch.utils.data import DataLoader, Dataset\n",
        "import torchvision.transforms as transforms\n",
        "import glob\n",
        "from tqdm import tqdm\n",
        "import numpy as np\n",
        "from collections import OrderedDict"
      ],
      "execution_count": 0,
      "outputs": []
    },
    {
      "cell_type": "markdown",
      "metadata": {
        "id": "7PK_iXl9NIzY",
        "colab_type": "text"
      },
      "source": [
        "\n",
        "\n",
        "```\n",
        "# This is formatted as code\n",
        "```\n",
        "\n",
        "接著我們要建立一個 nn.Module，作為 omniglot 的分類器 (Classifier)\n",
        "我們使用的是 CNN-based 的分類器。\n",
        "以下是 MAML 的演算法:\n",
        "![image.png](data:image/png;base64,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)\n",
        "\n",
        "由於在第10行，我們是要對原本的參數 θ 微分，並非 inner-loop (Line5~8) 的 θ' 微分，因此在 inner-loop，我們需要用 functional forward 的方式算出 input image 的 output logits，而不是直接用 nn.module 裡面的 forward（直接對 θ 微分）。在下面我們分別定義了 functional forward 以及 forward 函數。\n"
      ]
    },
    {
      "cell_type": "code",
      "metadata": {
        "id": "mTnHAW15NIzZ",
        "colab_type": "code",
        "colab": {}
      },
      "source": [
        "def ConvBlock(in_ch, out_ch):\n",
        "  return nn.Sequential(nn.Conv2d(in_ch, out_ch, 3, padding = 1),\n",
        "                       nn.BatchNorm2d(out_ch),\n",
        "                       nn.ReLU(),\n",
        "                       nn.MaxPool2d(kernel_size = 2, stride = 2)) # 原作者在 paper 裡是說她在 omniglot 用的是 strided convolution\n",
        "                                                                  # 不過這裡我改成 max pool (mini imagenet 才是 max pool)\n",
        "                                                                  # 這並不是你們在 report 第三題要找的 tip\n",
        "def ConvBlockFunction(x, w, b, w_bn, b_bn):\n",
        "  x = F.conv2d(x, w, b, padding = 1)\n",
        "  x = F.batch_norm(x, running_mean = None, running_var = None, weight = w_bn, bias = b_bn, training = True)\n",
        "  x = F.relu(x)\n",
        "  x = F.max_pool2d(x, kernel_size = 2, stride = 2)\n",
        "  return x\n",
        "\n",
        "class Classifier(nn.Module):\n",
        "  def __init__(self, in_ch, k_way):\n",
        "    super(Classifier, self).__init__()\n",
        "    self.conv1 = ConvBlock(in_ch, 64)\n",
        "    self.conv2 = ConvBlock(64, 64)\n",
        "    self.conv3 = ConvBlock(64, 64)\n",
        "    self.conv4 = ConvBlock(64, 64)\n",
        "    self.logits = nn.Linear(64, k_way)\n",
        "    \n",
        "  def forward(self, x):\n",
        "    x = self.conv1(x)\n",
        "    x = self.conv2(x)\n",
        "    x = self.conv3(x)\n",
        "    x = self.conv4(x)\n",
        "    x = nn.Flatten(x)\n",
        "    x = self.logits(x)\n",
        "    return x\n",
        "\n",
        "  def functional_forward(self, x, params):\n",
        "    '''\n",
        "    Arguments:\n",
        "    x: input images [batch, 1, 28, 28]\n",
        "    params: 模型的參數，也就是 convolution 的 weight 跟 bias，以及 batchnormalization 的  weight 跟 bias\n",
        "            這是一個 OrderedDict\n",
        "    '''\n",
        "    for block in [1, 2, 3, 4]:\n",
        "      x = ConvBlockFunction(x, params[f'conv{block}.0.weight'], params[f'conv{block}.0.bias'],\n",
        "                            params.get(f'conv{block}.1.weight'), params.get(f'conv{block}.1.bias'))\n",
        "    x = x.view(x.shape[0], -1)\n",
        "    x = F.linear(x, params['logits.weight'] , params['logits.bias'])\n",
        "    return x\n"
      ],
      "execution_count": 0,
      "outputs": []
    },
    {
      "cell_type": "markdown",
      "metadata": {
        "id": "RF1OTFAUNIzc",
        "colab_type": "text"
      },
      "source": [
        "這個函數是用來產生 label 的。在 n_way, k_shot 的 few-shot classification 問題中，每個 task 會有 n_way 個類別，每個類別k_shot張圖片。這是產生一個 n_way, k_shot 分類問題的 label 的函數\n"
      ]
    },
    {
      "cell_type": "code",
      "metadata": {
        "id": "0btLChelNIzd",
        "colab_type": "code",
        "outputId": "deb85d19-561c-4b94-a5d4-9a9a9978daea",
        "colab": {
          "base_uri": "https://localhost:8080/",
          "height": 34
        }
      },
      "source": [
        "def create_label(n_way, k_shot):\n",
        "  return torch.arange(n_way).repeat_interleave(k_shot).long()\n",
        "  \n",
        "# 我們試著產生 5 way 2 shot 的 label 看看\n",
        "create_label(5, 2)"
      ],
      "execution_count": 0,
      "outputs": [
        {
          "output_type": "execute_result",
          "data": {
            "text/plain": [
              "tensor([0, 0, 1, 1, 2, 2, 3, 3, 4, 4])"
            ]
          },
          "metadata": {
            "tags": []
          },
          "execution_count": 6
        }
      ]
    },
    {
      "cell_type": "markdown",
      "metadata": {
        "id": "sahQn8HtNIzh",
        "colab_type": "text"
      },
      "source": [
        "接下來這裡是 MAML 的核心。演算法就跟原文完全一樣，這個函數做的事情就是用 \"一個 meta-batch的 data\" 更新參數。這裡助教實作的是二階MAML(inner_train_step = 1)，對應老師投影片 meta learning p.13~p.18。如果要找一階的數學推導，在老師投影片 p.25。\n",
        "\n",
        "\n",
        "(http://speech.ee.ntu.edu.tw/~tlkagk/courses/ML_2019/Lecture/Meta1%20(v6).pdf)\n",
        "\n",
        "以下詳細解釋：\n",
        "\n",
        "\n"
      ]
    },
    {
      "cell_type": "code",
      "metadata": {
        "id": "m71AX5z6NIzh",
        "colab_type": "code",
        "colab": {}
      },
      "source": [
        "def MAML(model, optimizer, x, n_way, k_shot, q_query, loss_fn, inner_train_step = 1, inner_lr = 0.4, train = True):\n",
        "  \"\"\"\n",
        "  Args:\n",
        "  x is the input omniglot images for a meta_step, shape = [batch_size, n_way * (k_shot + q_query), 1, 28, 28]\n",
        "  n_way: 每個分類的 task 要有幾個 class\n",
        "  k_shot: 每個類別在 training 的時候會有多少張照片\n",
        "  q_query: 在 testing 時，每個類別會用多少張照片 update\n",
        "  \"\"\"\n",
        "  criterion = loss_fn\n",
        "  task_loss = [] # 這裡面之後會放入每個 task 的 loss \n",
        "  task_acc = []  # 這裡面之後會放入每個 task 的 loss \n",
        "  for meta_batch in x:\n",
        "    train_set = meta_batch[:n_way*k_shot] # train_set 是我們拿來 update inner loop 參數的 data\n",
        "    val_set = meta_batch[n_way*k_shot:]   # val_set 是我們拿來 update outer loop 參數的 data\n",
        "    \n",
        "    fast_weights = OrderedDict(model.named_parameters()) # 在 inner loop update 參數時，我們不能動到實際參數，因此用 fast_weights 來儲存新的參數 θ'\n",
        "    \n",
        "    for inner_step in range(inner_train_steps): # 這個 for loop 是 Algorithm2 的 line 7~8\n",
        "                                                # 實際上我們 inner loop 只有 update 一次 gradients，不過某些 task 可能會需要多次 update inner loop 的 θ'，\n",
        "                                                # 所以我們還是用 for loop 來寫\n",
        "      train_label = create_label(n_way, k_shot).cuda()\n",
        "      logits = model.functional_forward(train_set, fast_weights)\n",
        "      loss = criterion(logits, train_label)\n",
        "      grads = torch.autograd.grad(loss, fast_weights.values(), create_graph = True) # 這裡是要計算出 loss 對 θ 的微分 (∇loss)    \n",
        "      fast_weights = OrderedDict((name, param - inner_lr * grad)\n",
        "                                  for ((name, param), grad) in zip(fast_weights.items(), grads)) # 這裡是用剛剛算出的 ∇loss 來 update θ 變成 θ'\n",
        "  \n",
        "    val_label = create_label(n_way, q_query).cuda()\n",
        "    logits = model.functional_forward(val_set, fast_weights) # 這裡用 val_set 和 θ' 算 logit\n",
        "    loss = criterion(logits, val_label)                      # 這裡用 val_set 和 θ' 算 loss\n",
        "    task_loss.append(loss)                                   # 把這個 task 的 loss 丟進 task_loss 裡面\n",
        "    acc = np.asarray([torch.argmax(logits, -1).cpu().numpy() == val_label.cpu().numpy()]).mean() # 算 accuracy\n",
        "    task_acc.append(acc)\n",
        "    \n",
        "  model.train()\n",
        "  optimizer.zero_grad()\n",
        "  meta_batch_loss = torch.stack(task_loss).mean() # 我們要用一整個 batch 的 loss 來 update θ (不是 θ')\n",
        "  if train:\n",
        "    meta_batch_loss.backward()\n",
        "    optimizer.step()\n",
        "  task_acc = np.mean(task_acc)\n",
        "  return meta_batch_loss, task_acc"
      ],
      "execution_count": 0,
      "outputs": []
    },
    {
      "cell_type": "markdown",
      "metadata": {
        "id": "OQ2NQoG7NIzj",
        "colab_type": "text"
      },
      "source": [
        "定義 dataset。這個 dataset 會回傳某個 character 的 image，總共會有 k_shot+q_query 張，所以回傳的 tensor 大小是 [k_shot+q_query, 1, 28, 28]"
      ]
    },
    {
      "cell_type": "code",
      "metadata": {
        "id": "dm-4fRguNIzk",
        "colab_type": "code",
        "colab": {}
      },
      "source": [
        "class Omniglot(Dataset):\n",
        "  def __init__(self, data_dir, k_way, q_query):\n",
        "    self.file_list = [f for f in glob.glob(data_dir + \"**/character*\", recursive=True)]\n",
        "    self.transform = transforms.Compose([transforms.ToTensor()])\n",
        "    self.n = k_way + q_query\n",
        "  def __getitem__(self, idx):\n",
        "    sample = np.arange(20)\n",
        "    np.random.shuffle(sample) # 這裡是為了等一下要 random sample 出我們要的 character\n",
        "    img_path = self.file_list[idx]\n",
        "    img_list = [f for f in glob.glob(img_path + \"**/*.png\", recursive=True)]\n",
        "    img_list.sort()\n",
        "    imgs = [self.transform(Image.open(img_file)) for img_file in img_list]\n",
        "    imgs = torch.stack(imgs)[sample[:self.n]] # 每個 character，取出 k_way + q_query 個\n",
        "    return imgs\n",
        "  def __len__(self):\n",
        "    return len(self.file_list)    "
      ],
      "execution_count": 0,
      "outputs": []
    },
    {
      "cell_type": "markdown",
      "metadata": {
        "id": "21jpiW6ONIzm",
        "colab_type": "text"
      },
      "source": [
        "## **Step 3: 開始訓練**\n",
        "定義 hyperparameter"
      ]
    },
    {
      "cell_type": "code",
      "metadata": {
        "id": "GwocHCyHNIzm",
        "colab_type": "code",
        "colab": {}
      },
      "source": [
        "n_way = 5\n",
        "k_shot = 1\n",
        "q_query = 1\n",
        "inner_train_steps = 1\n",
        "inner_lr = 0.4\n",
        "meta_lr = 0.001\n",
        "meta_batch_size = 32\n",
        "max_epoch = 40\n",
        "eval_batches = test_batches = 20\n",
        "train_data_path = './Omniglot/images_background/'\n",
        "test_data_path = './Omniglot/images_evaluation/'"
      ],
      "execution_count": 0,
      "outputs": []
    },
    {
      "cell_type": "markdown",
      "metadata": {
        "id": "8Fub59oyNIzp",
        "colab_type": "text"
      },
      "source": [
        "初始化 dataloader"
      ]
    },
    {
      "cell_type": "code",
      "metadata": {
        "id": "1--S_YWANIzp",
        "colab_type": "code",
        "colab": {}
      },
      "source": [
        "#dataset = Omniglot(train_data_path, k_shot, q_query)\n",
        "train_set, val_set = torch.utils.data.random_split(Omniglot(train_data_path, k_shot, q_query), [3200,656])\n",
        "train_loader = DataLoader(train_set,\n",
        "                          batch_size = n_way, # 這裡的 batch size 並不是 meta batch size, 而是一個 task裡面會有多少不同的\n",
        "                                              # characters，也就是 few-shot classifiecation 的 n_way\n",
        "                          num_workers = 8,\n",
        "                          shuffle = True,\n",
        "                          drop_last = True)\n",
        "val_loader = DataLoader(val_set,\n",
        "                          batch_size = n_way,\n",
        "                          num_workers = 8,\n",
        "                          shuffle = True,\n",
        "                          drop_last = True)\n",
        "test_loader = DataLoader(Omniglot(test_data_path, k_shot, q_query),\n",
        "                          batch_size = n_way,\n",
        "                          num_workers = 8,\n",
        "                          shuffle = True,\n",
        "                          drop_last = True)\n",
        "train_iter = iter(train_loader)\n",
        "val_iter = iter(val_loader)\n",
        "test_iter = iter(test_loader)"
      ],
      "execution_count": 0,
      "outputs": []
    },
    {
      "cell_type": "markdown",
      "metadata": {
        "id": "IRS7YOCRNIzr",
        "colab_type": "text"
      },
      "source": [
        "初始化 model 和 optimizer"
      ]
    },
    {
      "cell_type": "code",
      "metadata": {
        "id": "Sk9XKcRMNIzr",
        "colab_type": "code",
        "colab": {}
      },
      "source": [
        "meta_model = Classifier(1, n_way).cuda()\n",
        "optimizer = torch.optim.Adam(meta_model.parameters(), lr = meta_lr)\n",
        "loss_fn = nn.CrossEntropyLoss().cuda()"
      ],
      "execution_count": 0,
      "outputs": []
    },
    {
      "cell_type": "markdown",
      "metadata": {
        "id": "31nt2shvNIzt",
        "colab_type": "text"
      },
      "source": [
        "這是一個用來抓一個 meta-batch 的 data 出來的 function"
      ]
    },
    {
      "cell_type": "code",
      "metadata": {
        "id": "XlJQaTh2NIzu",
        "colab_type": "code",
        "colab": {}
      },
      "source": [
        "def get_meta_batch(meta_batch_size, k_shot, q_query, data_loader, iterator):\n",
        "  data = []\n",
        "  for _ in range(meta_batch_size):\n",
        "    try:\n",
        "      task_data = iterator.next()  # 一筆 task_data 就是一個 task 裡面的 data，大小是 [n_way, k_shot+q_query, 1, 28, 28]\n",
        "    except StopIteration:\n",
        "      iterator = iter(data_loader)\n",
        "      task_data = iterator.next()\n",
        "    train_data = task_data[:, :k_shot].reshape(-1, 1, 28, 28)\n",
        "    val_data = task_data[:, k_shot:].reshape(-1, 1, 28, 28)\n",
        "    task_data = torch.cat((train_data, val_data), 0)\n",
        "    data.append(task_data)\n",
        "  return torch.stack(data).cuda(), iterator"
      ],
      "execution_count": 0,
      "outputs": []
    },
    {
      "cell_type": "markdown",
      "metadata": {
        "id": "4WRA7zIvNIzv",
        "colab_type": "text"
      },
      "source": [
        "開始 train!!!"
      ]
    },
    {
      "cell_type": "code",
      "metadata": {
        "id": "NwB0bJbgNIzw",
        "colab_type": "code",
        "outputId": "2a606012-5b47-4a23-c850-95058ff7e9ad",
        "colab": {
          "base_uri": "https://localhost:8080/",
          "height": 1000
        }
      },
      "source": [
        "for epoch in range(max_epoch):\n",
        "  print(\"Epoch %d\" %(epoch))\n",
        "  train_meta_loss = []\n",
        "  train_acc = []\n",
        "  for step in tqdm(range(len(train_loader) // (meta_batch_size))): # 這裡的 step 是一次 meta-gradinet update step\n",
        "    x, train_iter = get_meta_batch(meta_batch_size, k_shot, q_query, train_loader, train_iter)\n",
        "    meta_loss, acc = MAML(meta_model, optimizer, x, n_way, k_shot, q_query, loss_fn)\n",
        "    train_meta_loss.append(meta_loss.item())\n",
        "    train_acc.append(acc)\n",
        "  print(\"  Loss    : \", np.mean(train_meta_loss))\n",
        "  print(\"  Accuracy: \", np.mean(train_acc))\n",
        "\n",
        "  # 每個 epoch 結束後，看看 validation accuracy 如何  \n",
        "  # 助教並沒有做 early stopping，同學如果覺得有需要是可以做的 \n",
        "  val_acc = []\n",
        "  for eval_step in tqdm(range(len(val_loader) // (eval_batches))):\n",
        "    x, val_iter = get_meta_batch(eval_batches, k_shot, q_query, val_loader, val_iter)\n",
        "    _, acc = MAML(meta_model, optimizer, x, n_way, k_shot, q_query, loss_fn, inner_train_step = 3, train = False) # testing時，我們更新三次 inner-step\n",
        "    val_acc.append(acc)\n",
        "  print(\"  Validation accuracy: \", np.mean(val_acc))"
      ],
      "execution_count": 0,
      "outputs": [
        {
          "output_type": "stream",
          "text": [
            "\r  0%|          | 0/20 [00:00<?, ?it/s]"
          ],
          "name": "stderr"
        },
        {
          "output_type": "stream",
          "text": [
            "Epoch 0\n"
          ],
          "name": "stdout"
        },
        {
          "output_type": "stream",
          "text": [
            "100%|██████████| 20/20 [00:17<00:00,  1.25it/s]\n",
            "  0%|          | 0/6 [00:00<?, ?it/s]"
          ],
          "name": "stderr"
        },
        {
          "output_type": "stream",
          "text": [
            "  Loss    :  1.731891828775406\n",
            "  Accuracy:  0.44000000000000006\n"
          ],
          "name": "stdout"
        },
        {
          "output_type": "stream",
          "text": [
            "100%|██████████| 6/6 [00:02<00:00,  2.82it/s]\n",
            "  0%|          | 0/20 [00:00<?, ?it/s]"
          ],
          "name": "stderr"
        },
        {
          "output_type": "stream",
          "text": [
            "  Validation accuracy:  0.5483333333333333\n",
            "Epoch 1\n"
          ],
          "name": "stdout"
        },
        {
          "output_type": "stream",
          "text": [
            "100%|██████████| 20/20 [00:18<00:00,  1.22it/s]\n",
            "  0%|          | 0/6 [00:00<?, ?it/s]"
          ],
          "name": "stderr"
        },
        {
          "output_type": "stream",
          "text": [
            "  Loss    :  1.1451787292957305\n",
            "  Accuracy:  0.5765625\n"
          ],
          "name": "stdout"
        },
        {
          "output_type": "stream",
          "text": [
            "100%|██████████| 6/6 [00:02<00:00,  2.36it/s]\n",
            "  0%|          | 0/20 [00:00<?, ?it/s]"
          ],
          "name": "stderr"
        },
        {
          "output_type": "stream",
          "text": [
            "  Validation accuracy:  0.5883333333333334\n",
            "Epoch 2\n"
          ],
          "name": "stdout"
        },
        {
          "output_type": "stream",
          "text": [
            "100%|██████████| 20/20 [00:17<00:00,  1.24it/s]\n",
            " 17%|█▋        | 1/6 [00:00<00:00,  5.64it/s]"
          ],
          "name": "stderr"
        },
        {
          "output_type": "stream",
          "text": [
            "  Loss    :  1.0198260575532914\n",
            "  Accuracy:  0.6224999999999999\n"
          ],
          "name": "stdout"
        },
        {
          "output_type": "stream",
          "text": [
            "100%|██████████| 6/6 [00:02<00:00,  2.48it/s]\n",
            "  0%|          | 0/20 [00:00<?, ?it/s]"
          ],
          "name": "stderr"
        },
        {
          "output_type": "stream",
          "text": [
            "  Validation accuracy:  0.6666666666666666\n",
            "Epoch 3\n"
          ],
          "name": "stdout"
        },
        {
          "output_type": "stream",
          "text": [
            "100%|██████████| 20/20 [00:18<00:00,  1.23it/s]\n",
            "  0%|          | 0/6 [00:00<?, ?it/s]"
          ],
          "name": "stderr"
        },
        {
          "output_type": "stream",
          "text": [
            "  Loss    :  0.8934277713298797\n",
            "  Accuracy:  0.6771875\n"
          ],
          "name": "stdout"
        },
        {
          "output_type": "stream",
          "text": [
            "100%|██████████| 6/6 [00:02<00:00,  2.62it/s]\n",
            "  0%|          | 0/20 [00:00<?, ?it/s]"
          ],
          "name": "stderr"
        },
        {
          "output_type": "stream",
          "text": [
            "  Validation accuracy:  0.7166666666666668\n",
            "Epoch 4\n"
          ],
          "name": "stdout"
        },
        {
          "output_type": "stream",
          "text": [
            "100%|██████████| 20/20 [00:18<00:00,  1.25it/s]\n",
            "  0%|          | 0/6 [00:00<?, ?it/s]"
          ],
          "name": "stderr"
        },
        {
          "output_type": "stream",
          "text": [
            "  Loss    :  0.740339258313179\n",
            "  Accuracy:  0.7453125\n"
          ],
          "name": "stdout"
        },
        {
          "output_type": "stream",
          "text": [
            "100%|██████████| 6/6 [00:02<00:00,  2.35it/s]\n",
            "  0%|          | 0/20 [00:00<?, ?it/s]"
          ],
          "name": "stderr"
        },
        {
          "output_type": "stream",
          "text": [
            "  Validation accuracy:  0.7533333333333334\n",
            "Epoch 5\n"
          ],
          "name": "stdout"
        },
        {
          "output_type": "stream",
          "text": [
            "100%|██████████| 20/20 [00:17<00:00,  1.23it/s]\n",
            "  0%|          | 0/6 [00:00<?, ?it/s]"
          ],
          "name": "stderr"
        },
        {
          "output_type": "stream",
          "text": [
            "  Loss    :  0.611868879199028\n",
            "  Accuracy:  0.7965625000000001\n"
          ],
          "name": "stdout"
        },
        {
          "output_type": "stream",
          "text": [
            "100%|██████████| 6/6 [00:02<00:00,  2.32it/s]\n",
            "  0%|          | 0/20 [00:00<?, ?it/s]"
          ],
          "name": "stderr"
        },
        {
          "output_type": "stream",
          "text": [
            "  Validation accuracy:  0.7933333333333334\n",
            "Epoch 6\n"
          ],
          "name": "stdout"
        },
        {
          "output_type": "stream",
          "text": [
            "100%|██████████| 20/20 [00:18<00:00,  1.22it/s]\n",
            "  0%|          | 0/6 [00:00<?, ?it/s]"
          ],
          "name": "stderr"
        },
        {
          "output_type": "stream",
          "text": [
            "  Loss    :  0.5331316649913788\n",
            "  Accuracy:  0.8225000000000001\n"
          ],
          "name": "stdout"
        },
        {
          "output_type": "stream",
          "text": [
            "100%|██████████| 6/6 [00:02<00:00,  2.21it/s]\n",
            "  0%|          | 0/20 [00:00<?, ?it/s]"
          ],
          "name": "stderr"
        },
        {
          "output_type": "stream",
          "text": [
            "  Validation accuracy:  0.835\n",
            "Epoch 7\n"
          ],
          "name": "stdout"
        },
        {
          "output_type": "stream",
          "text": [
            "100%|██████████| 20/20 [00:18<00:00,  1.29it/s]\n",
            "  0%|          | 0/6 [00:00<?, ?it/s]"
          ],
          "name": "stderr"
        },
        {
          "output_type": "stream",
          "text": [
            "  Loss    :  0.47238304316997526\n",
            "  Accuracy:  0.849375\n"
          ],
          "name": "stdout"
        },
        {
          "output_type": "stream",
          "text": [
            "100%|██████████| 6/6 [00:02<00:00,  2.33it/s]\n",
            "  0%|          | 0/20 [00:00<?, ?it/s]"
          ],
          "name": "stderr"
        },
        {
          "output_type": "stream",
          "text": [
            "  Validation accuracy:  0.8433333333333334\n",
            "Epoch 8\n"
          ],
          "name": "stdout"
        },
        {
          "output_type": "stream",
          "text": [
            "100%|██████████| 20/20 [00:18<00:00,  1.16it/s]\n",
            "  0%|          | 0/6 [00:00<?, ?it/s]"
          ],
          "name": "stderr"
        },
        {
          "output_type": "stream",
          "text": [
            "  Loss    :  0.4014485597610474\n",
            "  Accuracy:  0.8790625000000001\n"
          ],
          "name": "stdout"
        },
        {
          "output_type": "stream",
          "text": [
            "100%|██████████| 6/6 [00:02<00:00,  2.21it/s]\n",
            "  0%|          | 0/20 [00:00<?, ?it/s]"
          ],
          "name": "stderr"
        },
        {
          "output_type": "stream",
          "text": [
            "  Validation accuracy:  0.8483333333333333\n",
            "Epoch 9\n"
          ],
          "name": "stdout"
        },
        {
          "output_type": "stream",
          "text": [
            "100%|██████████| 20/20 [00:17<00:00,  1.30it/s]\n",
            "  0%|          | 0/6 [00:00<?, ?it/s]"
          ],
          "name": "stderr"
        },
        {
          "output_type": "stream",
          "text": [
            "  Loss    :  0.3689503878355026\n",
            "  Accuracy:  0.8778124999999999\n"
          ],
          "name": "stdout"
        },
        {
          "output_type": "stream",
          "text": [
            "100%|██████████| 6/6 [00:02<00:00,  2.24it/s]\n",
            "  0%|          | 0/20 [00:00<?, ?it/s]"
          ],
          "name": "stderr"
        },
        {
          "output_type": "stream",
          "text": [
            "  Validation accuracy:  0.88\n",
            "Epoch 10\n"
          ],
          "name": "stdout"
        },
        {
          "output_type": "stream",
          "text": [
            "100%|██████████| 20/20 [00:18<00:00,  1.27it/s]\n",
            "  0%|          | 0/6 [00:00<?, ?it/s]"
          ],
          "name": "stderr"
        },
        {
          "output_type": "stream",
          "text": [
            "  Loss    :  0.34620913565158845\n",
            "  Accuracy:  0.89125\n"
          ],
          "name": "stdout"
        },
        {
          "output_type": "stream",
          "text": [
            "100%|██████████| 6/6 [00:02<00:00,  2.11it/s]\n",
            "  0%|          | 0/20 [00:00<?, ?it/s]"
          ],
          "name": "stderr"
        },
        {
          "output_type": "stream",
          "text": [
            "  Validation accuracy:  0.8933333333333334\n",
            "Epoch 11\n"
          ],
          "name": "stdout"
        },
        {
          "output_type": "stream",
          "text": [
            "100%|██████████| 20/20 [00:18<00:00,  1.19it/s]\n",
            "  0%|          | 0/6 [00:00<?, ?it/s]"
          ],
          "name": "stderr"
        },
        {
          "output_type": "stream",
          "text": [
            "  Loss    :  0.3245164930820465\n",
            "  Accuracy:  0.9025000000000001\n"
          ],
          "name": "stdout"
        },
        {
          "output_type": "stream",
          "text": [
            "100%|██████████| 6/6 [00:02<00:00,  3.22it/s]\n",
            "  0%|          | 0/20 [00:00<?, ?it/s]"
          ],
          "name": "stderr"
        },
        {
          "output_type": "stream",
          "text": [
            "  Validation accuracy:  0.9066666666666667\n",
            "Epoch 12\n"
          ],
          "name": "stdout"
        },
        {
          "output_type": "stream",
          "text": [
            "100%|██████████| 20/20 [00:17<00:00,  1.28it/s]\n",
            "  0%|          | 0/6 [00:00<?, ?it/s]"
          ],
          "name": "stderr"
        },
        {
          "output_type": "stream",
          "text": [
            "  Loss    :  0.28790679201483727\n",
            "  Accuracy:  0.9112500000000001\n"
          ],
          "name": "stdout"
        },
        {
          "output_type": "stream",
          "text": [
            "100%|██████████| 6/6 [00:02<00:00,  2.13it/s]\n",
            "  0%|          | 0/20 [00:00<?, ?it/s]"
          ],
          "name": "stderr"
        },
        {
          "output_type": "stream",
          "text": [
            "  Validation accuracy:  0.8983333333333334\n",
            "Epoch 13\n"
          ],
          "name": "stdout"
        },
        {
          "output_type": "stream",
          "text": [
            "100%|██████████| 20/20 [00:17<00:00,  1.29it/s]\n",
            "  0%|          | 0/6 [00:00<?, ?it/s]"
          ],
          "name": "stderr"
        },
        {
          "output_type": "stream",
          "text": [
            "  Loss    :  0.2813513822853565\n",
            "  Accuracy:  0.9153125000000001\n"
          ],
          "name": "stdout"
        },
        {
          "output_type": "stream",
          "text": [
            "100%|██████████| 6/6 [00:02<00:00,  2.18it/s]\n",
            "  0%|          | 0/20 [00:00<?, ?it/s]"
          ],
          "name": "stderr"
        },
        {
          "output_type": "stream",
          "text": [
            "  Validation accuracy:  0.8916666666666667\n",
            "Epoch 14\n"
          ],
          "name": "stdout"
        },
        {
          "output_type": "stream",
          "text": [
            "100%|██████████| 20/20 [00:17<00:00,  1.27it/s]\n",
            "  0%|          | 0/6 [00:00<?, ?it/s]"
          ],
          "name": "stderr"
        },
        {
          "output_type": "stream",
          "text": [
            "  Loss    :  0.2563490174710751\n",
            "  Accuracy:  0.9249999999999998\n"
          ],
          "name": "stdout"
        },
        {
          "output_type": "stream",
          "text": [
            "100%|██████████| 6/6 [00:02<00:00,  2.68it/s]\n",
            "  0%|          | 0/20 [00:00<?, ?it/s]"
          ],
          "name": "stderr"
        },
        {
          "output_type": "stream",
          "text": [
            "  Validation accuracy:  0.9233333333333333\n",
            "Epoch 15\n"
          ],
          "name": "stdout"
        },
        {
          "output_type": "stream",
          "text": [
            "100%|██████████| 20/20 [00:17<00:00,  1.21it/s]\n",
            "  0%|          | 0/6 [00:00<?, ?it/s]"
          ],
          "name": "stderr"
        },
        {
          "output_type": "stream",
          "text": [
            "  Loss    :  0.2591941073536873\n",
            "  Accuracy:  0.9193750000000002\n"
          ],
          "name": "stdout"
        },
        {
          "output_type": "stream",
          "text": [
            "100%|██████████| 6/6 [00:02<00:00,  2.35it/s]\n",
            "  0%|          | 0/20 [00:00<?, ?it/s]"
          ],
          "name": "stderr"
        },
        {
          "output_type": "stream",
          "text": [
            "  Validation accuracy:  0.9249999999999999\n",
            "Epoch 16\n"
          ],
          "name": "stdout"
        },
        {
          "output_type": "stream",
          "text": [
            "100%|██████████| 20/20 [00:18<00:00,  1.19it/s]\n",
            "  0%|          | 0/6 [00:00<?, ?it/s]"
          ],
          "name": "stderr"
        },
        {
          "output_type": "stream",
          "text": [
            "  Loss    :  0.24367987737059593\n",
            "  Accuracy:  0.9249999999999998\n"
          ],
          "name": "stdout"
        },
        {
          "output_type": "stream",
          "text": [
            "100%|██████████| 6/6 [00:02<00:00,  2.19it/s]\n",
            "  0%|          | 0/20 [00:00<?, ?it/s]"
          ],
          "name": "stderr"
        },
        {
          "output_type": "stream",
          "text": [
            "  Validation accuracy:  0.9183333333333333\n",
            "Epoch 17\n"
          ],
          "name": "stdout"
        },
        {
          "output_type": "stream",
          "text": [
            "100%|██████████| 20/20 [00:18<00:00,  1.16it/s]\n",
            "  0%|          | 0/6 [00:00<?, ?it/s]"
          ],
          "name": "stderr"
        },
        {
          "output_type": "stream",
          "text": [
            "  Loss    :  0.21530765518546105\n",
            "  Accuracy:  0.9393750000000001\n"
          ],
          "name": "stdout"
        },
        {
          "output_type": "stream",
          "text": [
            "100%|██████████| 6/6 [00:02<00:00,  2.38it/s]\n",
            "  0%|          | 0/20 [00:00<?, ?it/s]"
          ],
          "name": "stderr"
        },
        {
          "output_type": "stream",
          "text": [
            "  Validation accuracy:  0.9333333333333335\n",
            "Epoch 18\n"
          ],
          "name": "stdout"
        },
        {
          "output_type": "stream",
          "text": [
            "100%|██████████| 20/20 [00:18<00:00,  1.14it/s]\n",
            "  0%|          | 0/6 [00:00<?, ?it/s]"
          ],
          "name": "stderr"
        },
        {
          "output_type": "stream",
          "text": [
            "  Loss    :  0.21316150575876236\n",
            "  Accuracy:  0.9393749999999998\n"
          ],
          "name": "stdout"
        },
        {
          "output_type": "stream",
          "text": [
            "100%|██████████| 6/6 [00:02<00:00,  2.10it/s]\n",
            "  0%|          | 0/20 [00:00<?, ?it/s]"
          ],
          "name": "stderr"
        },
        {
          "output_type": "stream",
          "text": [
            "  Validation accuracy:  0.9183333333333333\n",
            "Epoch 19\n"
          ],
          "name": "stdout"
        },
        {
          "output_type": "stream",
          "text": [
            "100%|██████████| 20/20 [00:17<00:00,  1.12it/s]\n",
            "  0%|          | 0/6 [00:00<?, ?it/s]"
          ],
          "name": "stderr"
        },
        {
          "output_type": "stream",
          "text": [
            "  Loss    :  0.2026906929910183\n",
            "  Accuracy:  0.944375\n"
          ],
          "name": "stdout"
        },
        {
          "output_type": "stream",
          "text": [
            "100%|██████████| 6/6 [00:02<00:00,  2.44it/s]\n",
            "  0%|          | 0/20 [00:00<?, ?it/s]"
          ],
          "name": "stderr"
        },
        {
          "output_type": "stream",
          "text": [
            "  Validation accuracy:  0.9349999999999999\n",
            "Epoch 20\n"
          ],
          "name": "stdout"
        },
        {
          "output_type": "stream",
          "text": [
            "100%|██████████| 20/20 [00:18<00:00,  1.20it/s]\n",
            "  0%|          | 0/6 [00:00<?, ?it/s]"
          ],
          "name": "stderr"
        },
        {
          "output_type": "stream",
          "text": [
            "  Loss    :  0.1932499423623085\n",
            "  Accuracy:  0.9424999999999999\n"
          ],
          "name": "stdout"
        },
        {
          "output_type": "stream",
          "text": [
            "100%|██████████| 6/6 [00:02<00:00,  2.19it/s]\n",
            "  0%|          | 0/20 [00:00<?, ?it/s]"
          ],
          "name": "stderr"
        },
        {
          "output_type": "stream",
          "text": [
            "  Validation accuracy:  0.9366666666666666\n",
            "Epoch 21\n"
          ],
          "name": "stdout"
        },
        {
          "output_type": "stream",
          "text": [
            "100%|██████████| 20/20 [00:18<00:00,  1.13it/s]\n",
            "  0%|          | 0/6 [00:00<?, ?it/s]"
          ],
          "name": "stderr"
        },
        {
          "output_type": "stream",
          "text": [
            "  Loss    :  0.2056029386818409\n",
            "  Accuracy:  0.9378124999999999\n"
          ],
          "name": "stdout"
        },
        {
          "output_type": "stream",
          "text": [
            "100%|██████████| 6/6 [00:02<00:00,  2.04it/s]\n",
            "  0%|          | 0/20 [00:00<?, ?it/s]"
          ],
          "name": "stderr"
        },
        {
          "output_type": "stream",
          "text": [
            "  Validation accuracy:  0.9433333333333332\n",
            "Epoch 22\n"
          ],
          "name": "stdout"
        },
        {
          "output_type": "stream",
          "text": [
            "100%|██████████| 20/20 [00:18<00:00,  1.15it/s]\n",
            "  0%|          | 0/6 [00:00<?, ?it/s]"
          ],
          "name": "stderr"
        },
        {
          "output_type": "stream",
          "text": [
            "  Loss    :  0.17870986834168434\n",
            "  Accuracy:  0.9474999999999998\n"
          ],
          "name": "stdout"
        },
        {
          "output_type": "stream",
          "text": [
            "100%|██████████| 6/6 [00:02<00:00,  1.99it/s]\n",
            "  0%|          | 0/20 [00:00<?, ?it/s]"
          ],
          "name": "stderr"
        },
        {
          "output_type": "stream",
          "text": [
            "  Validation accuracy:  0.9333333333333332\n",
            "Epoch 23\n"
          ],
          "name": "stdout"
        },
        {
          "output_type": "stream",
          "text": [
            "100%|██████████| 20/20 [00:17<00:00,  1.25it/s]\n",
            "  0%|          | 0/6 [00:00<?, ?it/s]"
          ],
          "name": "stderr"
        },
        {
          "output_type": "stream",
          "text": [
            "  Loss    :  0.1821187801659107\n",
            "  Accuracy:  0.9428124999999999\n"
          ],
          "name": "stdout"
        },
        {
          "output_type": "stream",
          "text": [
            "100%|██████████| 6/6 [00:02<00:00,  3.00it/s]\n",
            "  0%|          | 0/20 [00:00<?, ?it/s]"
          ],
          "name": "stderr"
        },
        {
          "output_type": "stream",
          "text": [
            "  Validation accuracy:  0.9483333333333334\n",
            "Epoch 24\n"
          ],
          "name": "stdout"
        },
        {
          "output_type": "stream",
          "text": [
            "100%|██████████| 20/20 [00:18<00:00,  1.18it/s]\n",
            "  0%|          | 0/6 [00:00<?, ?it/s]"
          ],
          "name": "stderr"
        },
        {
          "output_type": "stream",
          "text": [
            "  Loss    :  0.17127417102456094\n",
            "  Accuracy:  0.945\n"
          ],
          "name": "stdout"
        },
        {
          "output_type": "stream",
          "text": [
            "100%|██████████| 6/6 [00:02<00:00,  2.28it/s]\n",
            "  0%|          | 0/20 [00:00<?, ?it/s]"
          ],
          "name": "stderr"
        },
        {
          "output_type": "stream",
          "text": [
            "  Validation accuracy:  0.9383333333333334\n",
            "Epoch 25\n"
          ],
          "name": "stdout"
        },
        {
          "output_type": "stream",
          "text": [
            "100%|██████████| 20/20 [00:17<00:00,  1.23it/s]\n",
            "  0%|          | 0/6 [00:00<?, ?it/s]"
          ],
          "name": "stderr"
        },
        {
          "output_type": "stream",
          "text": [
            "  Loss    :  0.16117324009537698\n",
            "  Accuracy:  0.951875\n"
          ],
          "name": "stdout"
        },
        {
          "output_type": "stream",
          "text": [
            "100%|██████████| 6/6 [00:02<00:00,  2.31it/s]\n",
            "  0%|          | 0/20 [00:00<?, ?it/s]"
          ],
          "name": "stderr"
        },
        {
          "output_type": "stream",
          "text": [
            "  Validation accuracy:  0.9533333333333333\n",
            "Epoch 26\n"
          ],
          "name": "stdout"
        },
        {
          "output_type": "stream",
          "text": [
            "100%|██████████| 20/20 [00:17<00:00,  1.29it/s]\n",
            "  0%|          | 0/6 [00:00<?, ?it/s]"
          ],
          "name": "stderr"
        },
        {
          "output_type": "stream",
          "text": [
            "  Loss    :  0.16247464045882226\n",
            "  Accuracy:  0.9534374999999999\n"
          ],
          "name": "stdout"
        },
        {
          "output_type": "stream",
          "text": [
            "100%|██████████| 6/6 [00:02<00:00,  2.68it/s]\n",
            "  0%|          | 0/20 [00:00<?, ?it/s]"
          ],
          "name": "stderr"
        },
        {
          "output_type": "stream",
          "text": [
            "  Validation accuracy:  0.9433333333333334\n",
            "Epoch 27\n"
          ],
          "name": "stdout"
        },
        {
          "output_type": "stream",
          "text": [
            "100%|██████████| 20/20 [00:18<00:00,  1.21it/s]\n",
            "  0%|          | 0/6 [00:00<?, ?it/s]"
          ],
          "name": "stderr"
        },
        {
          "output_type": "stream",
          "text": [
            "  Loss    :  0.1673447847366333\n",
            "  Accuracy:  0.9471874999999998\n"
          ],
          "name": "stdout"
        },
        {
          "output_type": "stream",
          "text": [
            "100%|██████████| 6/6 [00:02<00:00,  2.69it/s]\n",
            "  0%|          | 0/20 [00:00<?, ?it/s]"
          ],
          "name": "stderr"
        },
        {
          "output_type": "stream",
          "text": [
            "  Validation accuracy:  0.9400000000000001\n",
            "Epoch 28\n"
          ],
          "name": "stdout"
        },
        {
          "output_type": "stream",
          "text": [
            "100%|██████████| 20/20 [00:18<00:00,  1.23it/s]\n",
            "  0%|          | 0/6 [00:00<?, ?it/s]"
          ],
          "name": "stderr"
        },
        {
          "output_type": "stream",
          "text": [
            "  Loss    :  0.14980531707406045\n",
            "  Accuracy:  0.9556250000000001\n"
          ],
          "name": "stdout"
        },
        {
          "output_type": "stream",
          "text": [
            "100%|██████████| 6/6 [00:02<00:00,  2.39it/s]\n",
            "  0%|          | 0/20 [00:00<?, ?it/s]"
          ],
          "name": "stderr"
        },
        {
          "output_type": "stream",
          "text": [
            "  Validation accuracy:  0.94\n",
            "Epoch 29\n"
          ],
          "name": "stdout"
        },
        {
          "output_type": "stream",
          "text": [
            "100%|██████████| 20/20 [00:17<00:00,  1.27it/s]\n",
            "  0%|          | 0/6 [00:00<?, ?it/s]"
          ],
          "name": "stderr"
        },
        {
          "output_type": "stream",
          "text": [
            "  Loss    :  0.16480575129389763\n",
            "  Accuracy:  0.9471874999999998\n"
          ],
          "name": "stdout"
        },
        {
          "output_type": "stream",
          "text": [
            "100%|██████████| 6/6 [00:02<00:00,  2.38it/s]\n",
            "  0%|          | 0/20 [00:00<?, ?it/s]"
          ],
          "name": "stderr"
        },
        {
          "output_type": "stream",
          "text": [
            "  Validation accuracy:  0.9516666666666668\n",
            "Epoch 30\n"
          ],
          "name": "stdout"
        },
        {
          "output_type": "stream",
          "text": [
            "100%|██████████| 20/20 [00:17<00:00,  1.29it/s]\n",
            "  0%|          | 0/6 [00:00<?, ?it/s]"
          ],
          "name": "stderr"
        },
        {
          "output_type": "stream",
          "text": [
            "  Loss    :  0.14211105182766914\n",
            "  Accuracy:  0.9571875000000001\n"
          ],
          "name": "stdout"
        },
        {
          "output_type": "stream",
          "text": [
            "100%|██████████| 6/6 [00:02<00:00,  2.42it/s]\n",
            "  0%|          | 0/20 [00:00<?, ?it/s]"
          ],
          "name": "stderr"
        },
        {
          "output_type": "stream",
          "text": [
            "  Validation accuracy:  0.935\n",
            "Epoch 31\n"
          ],
          "name": "stdout"
        },
        {
          "output_type": "stream",
          "text": [
            "100%|██████████| 20/20 [00:18<00:00,  1.20it/s]\n",
            "  0%|          | 0/6 [00:00<?, ?it/s]"
          ],
          "name": "stderr"
        },
        {
          "output_type": "stream",
          "text": [
            "  Loss    :  0.15694820284843444\n",
            "  Accuracy:  0.9475\n"
          ],
          "name": "stdout"
        },
        {
          "output_type": "stream",
          "text": [
            "100%|██████████| 6/6 [00:02<00:00,  2.32it/s]\n",
            "  0%|          | 0/20 [00:00<?, ?it/s]"
          ],
          "name": "stderr"
        },
        {
          "output_type": "stream",
          "text": [
            "  Validation accuracy:  0.96\n",
            "Epoch 32\n"
          ],
          "name": "stdout"
        },
        {
          "output_type": "stream",
          "text": [
            "100%|██████████| 20/20 [00:18<00:00,  1.22it/s]\n",
            "  0%|          | 0/6 [00:00<?, ?it/s]"
          ],
          "name": "stderr"
        },
        {
          "output_type": "stream",
          "text": [
            "  Loss    :  0.14078659601509572\n",
            "  Accuracy:  0.9596875\n"
          ],
          "name": "stdout"
        },
        {
          "output_type": "stream",
          "text": [
            "100%|██████████| 6/6 [00:02<00:00,  2.22it/s]\n",
            "  0%|          | 0/20 [00:00<?, ?it/s]"
          ],
          "name": "stderr"
        },
        {
          "output_type": "stream",
          "text": [
            "  Validation accuracy:  0.9616666666666668\n",
            "Epoch 33\n"
          ],
          "name": "stdout"
        },
        {
          "output_type": "stream",
          "text": [
            "100%|██████████| 20/20 [00:18<00:00,  1.23it/s]\n",
            "  0%|          | 0/6 [00:00<?, ?it/s]"
          ],
          "name": "stderr"
        },
        {
          "output_type": "stream",
          "text": [
            "  Loss    :  0.13359812833368778\n",
            "  Accuracy:  0.9615624999999998\n"
          ],
          "name": "stdout"
        },
        {
          "output_type": "stream",
          "text": [
            "100%|██████████| 6/6 [00:02<00:00,  2.03it/s]\n",
            "  0%|          | 0/20 [00:00<?, ?it/s]"
          ],
          "name": "stderr"
        },
        {
          "output_type": "stream",
          "text": [
            "  Validation accuracy:  0.9733333333333333\n",
            "Epoch 34\n"
          ],
          "name": "stdout"
        },
        {
          "output_type": "stream",
          "text": [
            "100%|██████████| 20/20 [00:18<00:00,  1.24it/s]\n",
            "  0%|          | 0/6 [00:00<?, ?it/s]"
          ],
          "name": "stderr"
        },
        {
          "output_type": "stream",
          "text": [
            "  Loss    :  0.13120824582874774\n",
            "  Accuracy:  0.96\n"
          ],
          "name": "stdout"
        },
        {
          "output_type": "stream",
          "text": [
            "100%|██████████| 6/6 [00:02<00:00,  2.00it/s]\n",
            "  0%|          | 0/20 [00:00<?, ?it/s]"
          ],
          "name": "stderr"
        },
        {
          "output_type": "stream",
          "text": [
            "  Validation accuracy:  0.965\n",
            "Epoch 35\n"
          ],
          "name": "stdout"
        },
        {
          "output_type": "stream",
          "text": [
            "100%|██████████| 20/20 [00:18<00:00,  1.21it/s]\n",
            "  0%|          | 0/6 [00:00<?, ?it/s]"
          ],
          "name": "stderr"
        },
        {
          "output_type": "stream",
          "text": [
            "  Loss    :  0.13161050267517566\n",
            "  Accuracy:  0.960625\n"
          ],
          "name": "stdout"
        },
        {
          "output_type": "stream",
          "text": [
            "100%|██████████| 6/6 [00:02<00:00,  2.95it/s]\n",
            "  0%|          | 0/20 [00:00<?, ?it/s]"
          ],
          "name": "stderr"
        },
        {
          "output_type": "stream",
          "text": [
            "  Validation accuracy:  0.9500000000000001\n",
            "Epoch 36\n"
          ],
          "name": "stdout"
        },
        {
          "output_type": "stream",
          "text": [
            "100%|██████████| 20/20 [00:18<00:00,  1.22it/s]\n",
            "  0%|          | 0/6 [00:00<?, ?it/s]"
          ],
          "name": "stderr"
        },
        {
          "output_type": "stream",
          "text": [
            "  Loss    :  0.12310349345207214\n",
            "  Accuracy:  0.9584374999999999\n"
          ],
          "name": "stdout"
        },
        {
          "output_type": "stream",
          "text": [
            "100%|██████████| 6/6 [00:02<00:00,  2.10it/s]\n",
            "  0%|          | 0/20 [00:00<?, ?it/s]"
          ],
          "name": "stderr"
        },
        {
          "output_type": "stream",
          "text": [
            "  Validation accuracy:  0.9616666666666668\n",
            "Epoch 37\n"
          ],
          "name": "stdout"
        },
        {
          "output_type": "stream",
          "text": [
            "100%|██████████| 20/20 [00:18<00:00,  1.21it/s]\n",
            "  0%|          | 0/6 [00:00<?, ?it/s]"
          ],
          "name": "stderr"
        },
        {
          "output_type": "stream",
          "text": [
            "  Loss    :  0.1284371968358755\n",
            "  Accuracy:  0.9587499999999999\n"
          ],
          "name": "stdout"
        },
        {
          "output_type": "stream",
          "text": [
            "100%|██████████| 6/6 [00:02<00:00,  2.28it/s]\n",
            "  0%|          | 0/20 [00:00<?, ?it/s]"
          ],
          "name": "stderr"
        },
        {
          "output_type": "stream",
          "text": [
            "  Validation accuracy:  0.9583333333333334\n",
            "Epoch 38\n"
          ],
          "name": "stdout"
        },
        {
          "output_type": "stream",
          "text": [
            "100%|██████████| 20/20 [00:18<00:00,  1.17it/s]\n",
            "  0%|          | 0/6 [00:00<?, ?it/s]"
          ],
          "name": "stderr"
        },
        {
          "output_type": "stream",
          "text": [
            "  Loss    :  0.12387046106159687\n",
            "  Accuracy:  0.9615625\n"
          ],
          "name": "stdout"
        },
        {
          "output_type": "stream",
          "text": [
            "100%|██████████| 6/6 [00:02<00:00,  2.48it/s]\n",
            "  0%|          | 0/20 [00:00<?, ?it/s]"
          ],
          "name": "stderr"
        },
        {
          "output_type": "stream",
          "text": [
            "  Validation accuracy:  0.9616666666666666\n",
            "Epoch 39\n"
          ],
          "name": "stdout"
        },
        {
          "output_type": "stream",
          "text": [
            "100%|██████████| 20/20 [00:18<00:00,  1.20it/s]\n",
            "  0%|          | 0/6 [00:00<?, ?it/s]"
          ],
          "name": "stderr"
        },
        {
          "output_type": "stream",
          "text": [
            "  Loss    :  0.13122650273144246\n",
            "  Accuracy:  0.9599999999999997\n"
          ],
          "name": "stdout"
        },
        {
          "output_type": "stream",
          "text": [
            "100%|██████████| 6/6 [00:02<00:00,  2.38it/s]"
          ],
          "name": "stderr"
        },
        {
          "output_type": "stream",
          "text": [
            "  Validation accuracy:  0.9433333333333334\n"
          ],
          "name": "stdout"
        },
        {
          "output_type": "stream",
          "text": [
            "\n"
          ],
          "name": "stderr"
        }
      ]
    },
    {
      "cell_type": "markdown",
      "metadata": {
        "id": "b2NfNv5XUBg8",
        "colab_type": "text"
      },
      "source": [
        "測試訓練結果。這就是 report 上要回報的 test accuracy。"
      ]
    },
    {
      "cell_type": "code",
      "metadata": {
        "id": "DPLJqKHFUA6x",
        "colab_type": "code",
        "outputId": "5a321b17-23ec-4708-9ab0-c41016e72483",
        "colab": {
          "base_uri": "https://localhost:8080/",
          "height": 51
        }
      },
      "source": [
        "test_acc = []\n",
        "for test_step in tqdm(range(len(test_loader) // (test_batches))):\n",
        "  x, val_iter = get_meta_batch(test_batches, k_shot, q_query, test_loader, test_iter)\n",
        "  _, acc = MAML(meta_model, optimizer, x, n_way, k_shot, q_query, loss_fn, inner_train_step = 3, train = False) # testing 時，我們更新三次 inner-step\n",
        "  test_acc.append(acc)\n",
        "print(\"  Testing accuracy: \", np.mean(test_acc))"
      ],
      "execution_count": 0,
      "outputs": [
        {
          "output_type": "stream",
          "text": [
            "100%|██████████| 26/26 [00:09<00:00,  2.98it/s]"
          ],
          "name": "stderr"
        },
        {
          "output_type": "stream",
          "text": [
            "  Testing accuracy:  0.9434615384615385\n"
          ],
          "name": "stdout"
        },
        {
          "output_type": "stream",
          "text": [
            "\n"
          ],
          "name": "stderr"
        }
      ]
    }
  ]
}