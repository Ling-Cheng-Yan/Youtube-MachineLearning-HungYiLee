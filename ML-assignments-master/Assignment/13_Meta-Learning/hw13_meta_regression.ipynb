{
  "nbformat": 4,
  "nbformat_minor": 0,
  "metadata": {
    "colab": {
      "name": "hw13_meta_regression.ipynb",
      "provenance": [],
      "collapsed_sections": []
    },
    "kernelspec": {
      "name": "python3",
      "display_name": "Python 3"
    }
  },
  "cells": [
    {
      "cell_type": "markdown",
      "metadata": {
        "id": "yow9nZCqtvjj",
        "colab_type": "text"
      },
      "source": [
        "# **Homework 13 - Meta Learning**\n",
        "\n",
        "若有任何問題，歡迎來信至助教信箱 ntu-ml-2020spring-ta@googlegroups.com"
      ]
    },
    {
      "cell_type": "code",
      "metadata": {
        "id": "SWbkcznitlaF",
        "colab_type": "code",
        "colab": {}
      },
      "source": [
        "import torch\n",
        "import torch.nn as nn\n",
        "import torch.utils.data as data\n",
        "import torch.nn.functional as F\n",
        "import numpy as np\n",
        "from tqdm import tqdm\n",
        "import copy\n",
        "import matplotlib.pyplot as plt\n"
      ],
      "execution_count": 0,
      "outputs": []
    },
    {
      "cell_type": "markdown",
      "metadata": {
        "id": "LSGlyeWsxTDI",
        "colab_type": "text"
      },
      "source": [
        "生成 $ a*\\sin(x+b) $ 的資料點，其中 $a, b$ 的範圍分別預設為 $[0.1, 5], [0, 2\\pi]$，每一個 $ a*\\sin(x+b) $ 的函數有 10 個資料點當作訓練資料。測試時則可用較密集的資料點直接由畫圖來看 generalize 的好壞。\n",
        "\n"
      ]
    },
    {
      "cell_type": "code",
      "metadata": {
        "id": "G4tjWphivAUD",
        "colab_type": "code",
        "colab": {}
      },
      "source": [
        "device = 'cpu'\n",
        "def meta_task_data(seed = 0, a_range=[0.1, 5], b_range = [0, 2*np.pi], task_num = 100,\n",
        "                   n_sample = 10, sample_range = [-5, 5], plot = False):\n",
        "    np.random.seed = seed\n",
        "    a_s = np.random.uniform(low = a_range[0], high = a_range[1], size = task_num)\n",
        "    b_s = np.random.uniform(low = b_range[0], high = b_range[1], size = task_num)\n",
        "    total_x = []\n",
        "    total_y = []\n",
        "    label = []\n",
        "    for t in range(task_num):\n",
        "        x = np.random.uniform(low = sample_range[0], high = sample_range[1], size = n_sample)\n",
        "        total_x.append(x)\n",
        "        total_y.append( a_s[t]*np.sin(x+b_s[t]) )\n",
        "        label.append('{:.3}*sin(x+{:.3})'.format(a_s[t], b_s[t]))\n",
        "    if plot:\n",
        "        plot_x = [np.linspace(-5, 5, 1000)]\n",
        "        plot_y = []\n",
        "        for t in range(task_num):\n",
        "            plot_y.append( a_s[t]*np.sin(plot_x+b_s[t]) ) \n",
        "        return total_x, total_y, plot_x, plot_y, label\n",
        "    else:\n",
        "        return total_x, total_y, label"
      ],
      "execution_count": 0,
      "outputs": []
    },
    {
      "cell_type": "markdown",
      "metadata": {
        "id": "zjKn7O5H0WMA",
        "colab_type": "text"
      },
      "source": [
        "以下我們將老師 MAML 投影片第 27 頁的 $\\phi$ 稱作 meta weight，$\\theta$ 則稱為 sub weight。\n",
        "\n",
        "老師投影片： http://speech.ee.ntu.edu.tw/~tlkagk/courses/ML_2019/Lecture/Meta1%20(v6).pdf\n",
        "\n",
        "***\n",
        "\n",
        "為了讓 sub weight 的 gradient 能夠傳到 meta weight (因為 sub weight 的初始化是從 meta weight 來的，所以想當然我們用 sub weight 算出來的 loss 對 meta weight 也應該是可以算 gradient 才對)，這邊我們需要重新定義一些 PyTorch 內的 layer 的運算。\n",
        "\n",
        "實際上 *MetaLinear* 這個 class 做的事情跟 torch.nn.Linear 完全是一樣的，唯一的差別在於這邊的每一個 tensor 都沒有被變成 torch.nn.Parameter。這麼做的原因是因為等一下我們從 meta weight 那裏複製 (init weight 輸入 meta weight 後 weight 與 bias 使用 .clone) 的時候，tensor 的 clone 的操作是可以傳遞 gradient 的，以方便我們用 gradient 更新 meta weight。這個寫法的代價是我們就沒辦法使用 torch.optim 更新 sub weight 了，因為參數都只用 tensor 紀錄。也因此我們接下來需要自己寫 gradient update 的函數 (只用 SGD 的話是簡單的)。"
      ]
    },
    {
      "cell_type": "code",
      "metadata": {
        "id": "HCagZZYPwr6p",
        "colab_type": "code",
        "colab": {}
      },
      "source": [
        "class MetaLinear(nn.Module):\n",
        "    def __init__(self, init_layer = None):\n",
        "        super(MetaLinear, self).__init__()\n",
        "        if type(init_layer) != type(None):\n",
        "            self.weight = init_layer.weight.clone()\n",
        "            self.bias = init_layer.bias.clone()\n",
        "    def zero_grad(self):\n",
        "        self.weight.grad  = torch.zeros_like(self.weight)\n",
        "        self.bias.grad  = torch.zeros_like(self.bias)\n",
        "    def forward(self, x):\n",
        "        return F.linear(x, self.weight, self.bias)\n",
        "        \n",
        "\n",
        "\n"
      ],
      "execution_count": 0,
      "outputs": []
    },
    {
      "cell_type": "markdown",
      "metadata": {
        "id": "LJBv53j53xIp",
        "colab_type": "text"
      },
      "source": [
        "這裡的 forward 和一般的 model 是一樣的，唯一的差別在於我們需要多寫一下 \\_\\_init\\_\\_ 函數讓他比起一般的 PyTorch model 多一個可以從 meta weight 複製的功能 (這邊因為我把 model 的架構寫死了所以可能看起來會有點多餘，讀者可以自己把 net() 改成可以自己調整架構的樣子，然後思考一下如何生成一個跟 meta weight 一樣形狀的 sub weight)\n",
        "\n",
        "update 函數就如同前一段提到的，我們需要自己先手動用 SGD 更新一次 sub weight，接著再使用下一步的 gradient (第二步) 來更新 meta weight。zero_grad 函數在此處沒有用到，因為實際上我們計算第二步的 gradient 時會需要第一步的 grad，這也是為什麼我們第一次 backward 的時候需要 create_graph=True (建立計算圖以計算二階的 gradient)"
      ]
    },
    {
      "cell_type": "code",
      "metadata": {
        "id": "FdInqRZ93oiG",
        "colab_type": "code",
        "colab": {}
      },
      "source": [
        "class net(nn.Module):\n",
        "    def __init__(self, init_weight=None):\n",
        "        super(net, self).__init__()\n",
        "        if type(init_weight) != type(None):\n",
        "            for name, module in init_weight.named_modules():\n",
        "                if name != '':\n",
        "                    setattr(self, name, MetaLinear(module))\n",
        "        else:\n",
        "            self.hidden1 = nn.Linear(1, 40)\n",
        "            self.hidden2 = nn.Linear(40, 40)\n",
        "            self.out = nn.Linear(40, 1)\n",
        "    \n",
        "    def zero_grad(self):\n",
        "        layers = self.__dict__['_modules']\n",
        "        for layer in layers.keys():\n",
        "            layers[layer].zero_grad()\n",
        "    def update(self, parent, lr = 1):\n",
        "        layers = self.__dict__['_modules']\n",
        "        parent_layers = parent.__dict__['_modules']\n",
        "        for param in layers.keys():\n",
        "            layers[param].weight = layers[param].weight - lr*parent_layers[param].weight.grad\n",
        "            layers[param].bias = layers[param].bias - lr*parent_layers[param].bias.grad\n",
        "        # gradient will flow back due to clone backward\n",
        "        \n",
        "    def forward(self, x):\n",
        "        x = F.relu(self.hidden1(x))\n",
        "        x = F.relu(self.hidden2(x))\n",
        "        return self.out(x)\n",
        "\n",
        "    \n"
      ],
      "execution_count": 0,
      "outputs": []
    },
    {
      "cell_type": "markdown",
      "metadata": {
        "id": "LB06F2Fy7gHc",
        "colab_type": "text"
      },
      "source": [
        "前面的 class 中我們已經都將複製 meta weight 到 sub weight，以及 sub weight 的更新， gradient 的傳遞都搞定了，meta weight 自己本身的參數就可以按照一般 PyTorch model 的模式，使用 torch.optim 來更新了。\n",
        "\n",
        "gen_model 函數做的事情其實就是產生 N 個 sub weight，並且使用前面我們寫好的複製 meta weight 的功能。\n",
        "\n",
        "注意到複製 weight 其實是整個 code 的關鍵，因為我們需要將 sub weight 計算的第二步 gradient 正確的傳回 meta weight。讀者從 meta weight 與 sub weight 更新參數作法的差別 (手動更新 / 用 torch.nn.Parameter 與 torch.optim) 可以再思考一下兩者的差別。\n",
        "\n"
      ]
    },
    {
      "cell_type": "code",
      "metadata": {
        "id": "BwwEtUXU7fm0",
        "colab_type": "code",
        "colab": {}
      },
      "source": [
        "class Meta_learning_model():\n",
        "    def __init__(self, init_weight = None):\n",
        "        super(Meta_learning_model, self).__init__()\n",
        "        self.model = net().to(device)\n",
        "        if type(init_weight) != type(None):\n",
        "            self.model.load_state_dict(init_weight)\n",
        "        self.grad_buffer = 0\n",
        "    def gen_models(self, num, check = True):\n",
        "        models = [net(init_weight=self.model).to(device) for i in range(num)]\n",
        "        return models\n",
        "    def clear_buffer(self):\n",
        "        print(\"Before grad\", self.grad_buffer)\n",
        "        self.grad_buffer = 0"
      ],
      "execution_count": 0,
      "outputs": []
    },
    {
      "cell_type": "markdown",
      "metadata": {
        "id": "jpxeb_ew8qb-",
        "colab_type": "text"
      },
      "source": [
        "接下來就是生成訓練 / 測試資料，建立 meta weightmeta weight 的模型以及用來比較的 model pretraining 的模型"
      ]
    },
    {
      "cell_type": "code",
      "metadata": {
        "id": "b376YYA1vF9a",
        "colab_type": "code",
        "colab": {}
      },
      "source": [
        "bsz = 10\n",
        "train_x, train_y, train_label = meta_task_data(task_num=50000*10) \n",
        "train_x = torch.Tensor(train_x).unsqueeze(-1) # add one dim\n",
        "train_y = torch.Tensor(train_y).unsqueeze(-1)\n",
        "train_dataset = data.TensorDataset(train_x, train_y)\n",
        "train_loader = data.DataLoader(dataset=train_dataset, batch_size=bsz, shuffle=False)\n",
        "\n",
        "test_x, test_y, plot_x, plot_y, test_label = meta_task_data(task_num=1, n_sample = 10, plot=True)  \n",
        "test_x = torch.Tensor(test_x).unsqueeze(-1) # add one dim\n",
        "test_y = torch.Tensor(test_y).unsqueeze(-1) # add one dim\n",
        "plot_x = torch.Tensor(plot_x).unsqueeze(-1) # add one dim\n",
        "test_dataset = data.TensorDataset(test_x, test_y)\n",
        "test_loader = data.DataLoader(dataset=test_dataset, batch_size=bsz, shuffle=False)  \n",
        "\n",
        "\n",
        "meta_model = Meta_learning_model()\n",
        "\n",
        "meta_optimizer = torch.optim.Adam(meta_model.model.parameters(), lr = 1e-3)\n",
        "\n",
        "\n",
        "pretrain = net()\n",
        "pretrain.to(device)\n",
        "pretrain.train()\n",
        "pretrain_optim = torch.optim.Adam(pretrain.parameters(), lr = 1e-3)"
      ],
      "execution_count": 0,
      "outputs": []
    },
    {
      "cell_type": "markdown",
      "metadata": {
        "id": "cOVC8J2z9UUO",
        "colab_type": "text"
      },
      "source": [
        "進行訓練，注意一開始我們要先生成一群 sub weight (code 裡面的 sub models)，然後將一個 batch 的不同的 sin 函數的 10 筆資料點拿來訓練 sub weight。注意這邊 sub weight 計算第一步 gradient 與第二步 gradient 時使用各五筆不重複的資料點 (因此使用 [:5] 與 [5:] 來取)。但在訓練 model pretraining 的對照組時則沒有這個問題 (所以 pretraining 的 model 是可以確實的走兩步 gradient 的)\n",
        "\n",
        "每一個 sub weight 計算完 loss 後相加 (內層的 for 迴圈) 後就可以使用 optimizer 來更新 meta weight，再次提醒一下 sub weight 計算第一次 loss 的時候 backward 是需要 create_graph=True 的，這樣計算第二步 gradient 的時候才會真的計算到二階的項。讀者可以在這個地方思考一下如何將這段程式碼改成 MAML 的一階做法。"
      ]
    },
    {
      "cell_type": "code",
      "metadata": {
        "id": "wyC2Mv86vP8l",
        "colab_type": "code",
        "outputId": "c5b2310f-fc69-435e-a0c2-26eb51fd1ddc",
        "colab": {
          "base_uri": "https://localhost:8080/",
          "height": 35
        }
      },
      "source": [
        "epoch = 1\n",
        "for e in range(epoch):\n",
        "    meta_model.model.train()\n",
        "    for x, y in tqdm(train_loader):\n",
        "        x = x.to(device)\n",
        "        y = y.to(device)\n",
        "        sub_models = meta_model.gen_models(bsz)\n",
        "\n",
        "        meta_l = 0\n",
        "        for model_num in range(len(sub_models)):\n",
        "            \n",
        "            sample = torch.randint(0,10, size = (10,), dtype = torch.long)\n",
        "            \n",
        "            #pretraining\n",
        "            pretrain_optim.zero_grad()\n",
        "            y_tilde = pretrain(x[model_num][sample[:5],:])\n",
        "            little_l = F.mse_loss(y_tilde, y[model_num][sample[:5],:])\n",
        "            little_l.backward()\n",
        "            pretrain_optim.step()\n",
        "            pretrain_optim.zero_grad()\n",
        "            y_tilde = pretrain(x[model_num][sample[5:],:])\n",
        "            little_l = F.mse_loss(y_tilde, y[model_num][sample[5:],:])\n",
        "            little_l.backward()\n",
        "            pretrain_optim.step()\n",
        "            \n",
        "            # meta learning\n",
        "            \n",
        "            y_tilde = sub_models[model_num](x[model_num][sample[:5],:])\n",
        "            little_l = F.mse_loss(y_tilde, y[model_num][sample[:5],:])\n",
        "            #計算第一次 gradient 並保留計算圖以接著計算更高階的 gradient\n",
        "            little_l.backward(create_graph = True)\n",
        "            sub_models[model_num].update(lr = 1e-2, parent = meta_model.model)\n",
        "            #先清空 optimizer 中計算的 gradient 值 (避免累加)\n",
        "            meta_optimizer.zero_grad()\n",
        "            \n",
        "            #計算第二次 (二階) 的 gradient，二階的原因來自第一次 update 時有計算過一次 gradient 了\n",
        "            y_tilde = sub_models[model_num](x[model_num][sample[5:],:])\n",
        "            meta_l =  meta_l + F.mse_loss(y_tilde, y[model_num][sample[5:],:])\n",
        "\n",
        "        meta_l = meta_l / bsz\n",
        "        meta_l.backward()\n",
        "        meta_optimizer.step()\n",
        "        meta_optimizer.zero_grad()"
      ],
      "execution_count": 0,
      "outputs": [
        {
          "output_type": "stream",
          "text": [
            "100%|██████████| 50000/50000 [35:45<00:00, 22.86it/s]\n"
          ],
          "name": "stderr"
        }
      ]
    },
    {
      "cell_type": "markdown",
      "metadata": {
        "id": "5SQ4g_qA_gtr",
        "colab_type": "text"
      },
      "source": [
        "測試我們訓練好的 meta weight"
      ]
    },
    {
      "cell_type": "code",
      "metadata": {
        "id": "iHr-BPWEv9W_",
        "colab_type": "code",
        "colab": {}
      },
      "source": [
        "test_model = copy.deepcopy(meta_model.model)\n",
        "test_model.train()\n",
        "test_optim = torch.optim.SGD(test_model.parameters(), lr = 1e-3)"
      ],
      "execution_count": 0,
      "outputs": []
    },
    {
      "cell_type": "markdown",
      "metadata": {
        "id": "KccSKypP_nMT",
        "colab_type": "text"
      },
      "source": [
        "先畫出待測試的 sin 函數，以及用圓點點出測試時給 meta weight 訓練的十筆資料點"
      ]
    },
    {
      "cell_type": "code",
      "metadata": {
        "id": "abeYF21Ev_tU",
        "colab_type": "code",
        "colab": {}
      },
      "source": [
        "fig = plt.figure(figsize = [9.6,7.2])\n",
        "ax = plt.subplot(111)\n",
        "plot_x1 = plot_x.squeeze().numpy()\n",
        "ax.scatter(test_x.numpy().squeeze(), test_y.numpy().squeeze())\n",
        "ax.plot(plot_x1, plot_y[0].squeeze())"
      ],
      "execution_count": 0,
      "outputs": []
    },
    {
      "cell_type": "markdown",
      "metadata": {
        "id": "P6THCM8G_0pM",
        "colab_type": "text"
      },
      "source": [
        "分別利用十筆資料點更新 meta weight 以及 pretrained model 一個 step"
      ]
    },
    {
      "cell_type": "code",
      "metadata": {
        "id": "ji6B2UuewDgt",
        "colab_type": "code",
        "outputId": "ee1cbc41-d9b8-4b44-85f8-351bcf4cbc95",
        "colab": {
          "base_uri": "https://localhost:8080/",
          "height": 53
        }
      },
      "source": [
        "test_model.train()\n",
        "pretrain.train()\n",
        "\n",
        "for epoch in range(1):\n",
        "    for x, y in test_loader:\n",
        "        y_tilde = test_model(x[0])\n",
        "        little_l = F.mse_loss(y_tilde, y[0])\n",
        "        test_optim.zero_grad()\n",
        "        little_l.backward()\n",
        "        test_optim.step()\n",
        "        print(\"(meta)))Loss: \", little_l.item())\n",
        "\n",
        "for epoch in range(1):\n",
        "    for x, y in test_loader:\n",
        "        y_tilde = pretrain(x[0])\n",
        "        little_l = F.mse_loss(y_tilde, y[0])\n",
        "        pretrain_optim.zero_grad()\n",
        "        little_l.backward()\n",
        "        pretrain_optim.step()\n",
        "        print(\"(pretrain)Loss: \", little_l.item())"
      ],
      "execution_count": 0,
      "outputs": [
        {
          "output_type": "stream",
          "text": [
            "(meta)))Loss:  0.3323650658130646\n",
            "(pretrain)Loss:  2.0638670921325684\n"
          ],
          "name": "stdout"
        }
      ]
    },
    {
      "cell_type": "markdown",
      "metadata": {
        "id": "NVp1LUdVABZH",
        "colab_type": "text"
      },
      "source": [
        "將更新後的模型所代表的函數繪製出來，與真實的 sin 函數比較"
      ]
    },
    {
      "cell_type": "code",
      "metadata": {
        "id": "-74T_CrXwMJ_",
        "colab_type": "code",
        "colab": {}
      },
      "source": [
        "test_model.eval()\n",
        "pretrain.eval()\n",
        "\n",
        "plot_y_tilde = test_model(plot_x[0]).squeeze().detach().numpy()\n",
        "plot_x2 = plot_x.squeeze().numpy()\n",
        "ax.plot(plot_x2, plot_y_tilde, label = 'tune(disjoint)')\n",
        "ax.legend()\n",
        "fig.show()"
      ],
      "execution_count": 0,
      "outputs": []
    },
    {
      "cell_type": "code",
      "metadata": {
        "id": "Tnc3Lr82wRtS",
        "colab_type": "code",
        "outputId": "57ad6c5a-59e4-4fae-ef32-833217e7d965",
        "colab": {
          "base_uri": "https://localhost:8080/",
          "height": 35
        }
      },
      "source": [
        "plot_y_tilde = pretrain(plot_x[0]).squeeze().detach().numpy()\n",
        "plot_x2 = plot_x.squeeze().numpy()\n",
        "ax.plot(plot_x2, plot_y_tilde, label = 'pretrain')\n",
        "ax.legend()"
      ],
      "execution_count": 0,
      "outputs": [
        {
          "output_type": "execute_result",
          "data": {
            "text/plain": [
              "<matplotlib.legend.Legend at 0x7f18d86ac898>"
            ]
          },
          "metadata": {
            "tags": []
          },
          "execution_count": 34
        }
      ]
    },
    {
      "cell_type": "markdown",
      "metadata": {
        "id": "U8SLgC1SAJnC",
        "colab_type": "text"
      },
      "source": [
        "執行底下的 cell 以顯示圖形，並重複執行更新 meta weight 與 pretrained model 的 cell 來比較多更新幾步後是否真的能看出 meta learning 比 model pretraining 有效"
      ]
    },
    {
      "cell_type": "code",
      "metadata": {
        "id": "jF5KQMHy6bt7",
        "colab_type": "code",
        "outputId": "87deaf94-8d3a-477c-ad44-1a06f30eeba4",
        "colab": {
          "base_uri": "https://localhost:8080/",
          "height": 439
        }
      },
      "source": [
        "fig"
      ],
      "execution_count": 0,
      "outputs": [
        {
          "output_type": "execute_result",
          "data": {
            "image/png": "[encoded data removed]",
            "text/plain": [
              "<Figure size 691.2x518.4 with 1 Axes>"
            ]
          },
          "metadata": {
            "tags": []
          },
          "execution_count": 34
        }
      ]
    }
  ]
}